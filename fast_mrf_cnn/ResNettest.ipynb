{
 "cells": [
  {
   "cell_type": "code",
   "execution_count": 29,
   "metadata": {
    "collapsed": true
   },
   "outputs": [],
   "source": [
    "from mxnet.gluon.model_zoo.vision.resnet import resnet18_v1\n",
    "import mxnet as mx\n",
    "import numpy as np"
   ]
  },
  {
   "cell_type": "code",
   "execution_count": 42,
   "metadata": {},
   "outputs": [
    {
     "name": "stdout",
     "output_type": "stream",
     "text": [
      "HybridSequential(\n",
      "  (0): Conv2D(3 -> 64, kernel_size=(7, 7), stride=(2, 2), padding=(3, 3), bias=False)\n",
      "  (1): BatchNorm(fix_gamma=False, momentum=0.9, axis=1, eps=1e-05)\n",
      "  (2): Activation(relu)\n",
      "  (3): MaxPool2D(size=(3, 3), stride=(2, 2), padding=(1, 1), ceil_mode=False)\n",
      "  (4): HybridSequential(\n",
      "    (0): BasicBlockV1(\n",
      "      (body): HybridSequential(\n",
      "        (0): Conv2D(64 -> 64, kernel_size=(3, 3), stride=(1, 1), padding=(1, 1), bias=False)\n",
      "        (1): BatchNorm(fix_gamma=False, momentum=0.9, axis=1, eps=1e-05)\n",
      "        (2): Activation(relu)\n",
      "        (3): Conv2D(64 -> 64, kernel_size=(3, 3), stride=(1, 1), padding=(1, 1), bias=False)\n",
      "        (4): BatchNorm(fix_gamma=False, momentum=0.9, axis=1, eps=1e-05)\n",
      "      )\n",
      "    )\n",
      "    (1): BasicBlockV1(\n",
      "      (body): HybridSequential(\n",
      "        (0): Conv2D(64 -> 64, kernel_size=(3, 3), stride=(1, 1), padding=(1, 1), bias=False)\n",
      "        (1): BatchNorm(fix_gamma=False, momentum=0.9, axis=1, eps=1e-05)\n",
      "        (2): Activation(relu)\n",
      "        (3): Conv2D(64 -> 64, kernel_size=(3, 3), stride=(1, 1), padding=(1, 1), bias=False)\n",
      "        (4): BatchNorm(fix_gamma=False, momentum=0.9, axis=1, eps=1e-05)\n",
      "      )\n",
      "    )\n",
      "  )\n",
      "  (5): HybridSequential(\n",
      "    (0): BasicBlockV1(\n",
      "      (downsample): HybridSequential(\n",
      "        (0): Conv2D(64 -> 128, kernel_size=(1, 1), stride=(2, 2), bias=False)\n",
      "        (1): BatchNorm(fix_gamma=False, momentum=0.9, axis=1, eps=1e-05)\n",
      "      )\n",
      "      (body): HybridSequential(\n",
      "        (0): Conv2D(64 -> 128, kernel_size=(3, 3), stride=(2, 2), padding=(1, 1), bias=False)\n",
      "        (1): BatchNorm(fix_gamma=False, momentum=0.9, axis=1, eps=1e-05)\n",
      "        (2): Activation(relu)\n",
      "        (3): Conv2D(128 -> 128, kernel_size=(3, 3), stride=(1, 1), padding=(1, 1), bias=False)\n",
      "        (4): BatchNorm(fix_gamma=False, momentum=0.9, axis=1, eps=1e-05)\n",
      "      )\n",
      "    )\n",
      "    (1): BasicBlockV1(\n",
      "      (body): HybridSequential(\n",
      "        (0): Conv2D(128 -> 128, kernel_size=(3, 3), stride=(1, 1), padding=(1, 1), bias=False)\n",
      "        (1): BatchNorm(fix_gamma=False, momentum=0.9, axis=1, eps=1e-05)\n",
      "        (2): Activation(relu)\n",
      "        (3): Conv2D(128 -> 128, kernel_size=(3, 3), stride=(1, 1), padding=(1, 1), bias=False)\n",
      "        (4): BatchNorm(fix_gamma=False, momentum=0.9, axis=1, eps=1e-05)\n",
      "      )\n",
      "    )\n",
      "  )\n",
      "  (6): HybridSequential(\n",
      "    (0): BasicBlockV1(\n",
      "      (downsample): HybridSequential(\n",
      "        (0): Conv2D(128 -> 256, kernel_size=(1, 1), stride=(2, 2), bias=False)\n",
      "        (1): BatchNorm(fix_gamma=False, momentum=0.9, axis=1, eps=1e-05)\n",
      "      )\n",
      "      (body): HybridSequential(\n",
      "        (0): Conv2D(128 -> 256, kernel_size=(3, 3), stride=(2, 2), padding=(1, 1), bias=False)\n",
      "        (1): BatchNorm(fix_gamma=False, momentum=0.9, axis=1, eps=1e-05)\n",
      "        (2): Activation(relu)\n",
      "        (3): Conv2D(256 -> 256, kernel_size=(3, 3), stride=(1, 1), padding=(1, 1), bias=False)\n",
      "        (4): BatchNorm(fix_gamma=False, momentum=0.9, axis=1, eps=1e-05)\n",
      "      )\n",
      "    )\n",
      "    (1): BasicBlockV1(\n",
      "      (body): HybridSequential(\n",
      "        (0): Conv2D(256 -> 256, kernel_size=(3, 3), stride=(1, 1), padding=(1, 1), bias=False)\n",
      "        (1): BatchNorm(fix_gamma=False, momentum=0.9, axis=1, eps=1e-05)\n",
      "        (2): Activation(relu)\n",
      "        (3): Conv2D(256 -> 256, kernel_size=(3, 3), stride=(1, 1), padding=(1, 1), bias=False)\n",
      "        (4): BatchNorm(fix_gamma=False, momentum=0.9, axis=1, eps=1e-05)\n",
      "      )\n",
      "    )\n",
      "  )\n",
      "  (7): HybridSequential(\n",
      "    (0): BasicBlockV1(\n",
      "      (downsample): HybridSequential(\n",
      "        (0): Conv2D(256 -> 512, kernel_size=(1, 1), stride=(2, 2), bias=False)\n",
      "        (1): BatchNorm(fix_gamma=False, momentum=0.9, axis=1, eps=1e-05)\n",
      "      )\n",
      "      (body): HybridSequential(\n",
      "        (0): Conv2D(256 -> 512, kernel_size=(3, 3), stride=(2, 2), padding=(1, 1), bias=False)\n",
      "        (1): BatchNorm(fix_gamma=False, momentum=0.9, axis=1, eps=1e-05)\n",
      "        (2): Activation(relu)\n",
      "        (3): Conv2D(512 -> 512, kernel_size=(3, 3), stride=(1, 1), padding=(1, 1), bias=False)\n",
      "        (4): BatchNorm(fix_gamma=False, momentum=0.9, axis=1, eps=1e-05)\n",
      "      )\n",
      "    )\n",
      "    (1): BasicBlockV1(\n",
      "      (body): HybridSequential(\n",
      "        (0): Conv2D(512 -> 512, kernel_size=(3, 3), stride=(1, 1), padding=(1, 1), bias=False)\n",
      "        (1): BatchNorm(fix_gamma=False, momentum=0.9, axis=1, eps=1e-05)\n",
      "        (2): Activation(relu)\n",
      "        (3): Conv2D(512 -> 512, kernel_size=(3, 3), stride=(1, 1), padding=(1, 1), bias=False)\n",
      "        (4): BatchNorm(fix_gamma=False, momentum=0.9, axis=1, eps=1e-05)\n",
      "      )\n",
      "    )\n",
      "  )\n",
      ")\n"
     ]
    }
   ],
   "source": [
    "resnet = resnet18_v1(pretrained=True)\n",
    "print(resnet.features)"
   ]
  },
  {
   "cell_type": "code",
   "execution_count": 40,
   "metadata": {},
   "outputs": [
    {
     "ename": "TypeError",
     "evalue": "'Conv2D' object does not support indexing",
     "output_type": "error",
     "traceback": [
      "\u001b[0;31m----------------------\u001b[0m",
      "\u001b[0;31mTypeError\u001b[0mTraceback (most recent call last)",
      "\u001b[0;32m<ipython-input-40-0c5ed705a1a0>\u001b[0m in \u001b[0;36m<module>\u001b[0;34m()\u001b[0m\n\u001b[1;32m      1\u001b[0m \u001b[0mnewnet\u001b[0m \u001b[0;34m=\u001b[0m \u001b[0mresnet\u001b[0m\u001b[0;34m.\u001b[0m\u001b[0mfeatures\u001b[0m\u001b[0;34m\u001b[0m\u001b[0m\n\u001b[1;32m      2\u001b[0m \u001b[0mdata\u001b[0m \u001b[0;34m=\u001b[0m \u001b[0mmx\u001b[0m\u001b[0;34m.\u001b[0m\u001b[0msym\u001b[0m\u001b[0;34m.\u001b[0m\u001b[0mVariable\u001b[0m\u001b[0;34m(\u001b[0m\u001b[0;34m'data'\u001b[0m\u001b[0;34m)\u001b[0m\u001b[0;34m\u001b[0m\u001b[0m\n\u001b[0;32m----> 3\u001b[0;31m \u001b[0mout\u001b[0m \u001b[0;34m=\u001b[0m \u001b[0mmx\u001b[0m\u001b[0;34m.\u001b[0m\u001b[0msym\u001b[0m\u001b[0;34m.\u001b[0m\u001b[0mGroup\u001b[0m\u001b[0;34m(\u001b[0m\u001b[0;34m[\u001b[0m\u001b[0mnewnet\u001b[0m\u001b[0;34m[\u001b[0m\u001b[0;36m0\u001b[0m\u001b[0;34m]\u001b[0m\u001b[0;34m[\u001b[0m\u001b[0;36m1\u001b[0m\u001b[0;34m]\u001b[0m\u001b[0;34m.\u001b[0m\u001b[0mbody\u001b[0m\u001b[0;34m[\u001b[0m\u001b[0;36m4\u001b[0m\u001b[0;34m]\u001b[0m\u001b[0;34m,\u001b[0m \u001b[0mnewnet\u001b[0m\u001b[0;34m[\u001b[0m\u001b[0;36m1\u001b[0m\u001b[0;34m]\u001b[0m\u001b[0;34m[\u001b[0m\u001b[0;36m1\u001b[0m\u001b[0;34m]\u001b[0m\u001b[0;34m.\u001b[0m\u001b[0mbody\u001b[0m\u001b[0;34m[\u001b[0m\u001b[0;36m4\u001b[0m\u001b[0;34m]\u001b[0m\u001b[0;34m]\u001b[0m\u001b[0;34m)\u001b[0m\u001b[0;34m\u001b[0m\u001b[0m\n\u001b[0m",
      "\u001b[0;31mTypeError\u001b[0m: 'Conv2D' object does not support indexing"
     ]
    }
   ],
   "source": [
    "newnet = resnet.features\n",
    "data = mx.sym.Variable('data')\n"
   ]
  },
  {
   "cell_type": "code",
   "execution_count": 34,
   "metadata": {},
   "outputs": [
    {
     "data": {
      "text/plain": [
       "[BatchNorm(fix_gamma=False, momentum=0.9, axis=1, eps=1e-05),\n",
       " BatchNorm(fix_gamma=False, momentum=0.9, axis=1, eps=1e-05),\n",
       " BatchNorm(fix_gamma=False, momentum=0.9, axis=1, eps=1e-05),\n",
       " BatchNorm(fix_gamma=False, momentum=0.9, axis=1, eps=1e-05)]"
      ]
     },
     "execution_count": 34,
     "metadata": {},
     "output_type": "execute_result"
    }
   ],
   "source": [
    "[newnet[i][1].body[4] for i in np.array([4, 5, 6, 7])]"
   ]
  },
  {
   "cell_type": "code",
   "execution_count": null,
   "metadata": {
    "collapsed": true
   },
   "outputs": [],
   "source": []
  }
 ],
 "metadata": {
  "kernelspec": {
   "display_name": "Python 3",
   "language": "python",
   "name": "python3"
  },
  "language_info": {
   "codemirror_mode": {
    "name": "ipython",
    "version": 3
   },
   "file_extension": ".py",
   "mimetype": "text/x-python",
   "name": "python",
   "nbconvert_exporter": "python",
   "pygments_lexer": "ipython3",
   "version": "3.5.2"
  }
 },
 "nbformat": 4,
 "nbformat_minor": 2
}
