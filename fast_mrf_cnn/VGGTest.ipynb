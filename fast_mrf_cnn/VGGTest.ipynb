{
 "cells": [
  {
   "cell_type": "code",
   "execution_count": 17,
   "metadata": {},
   "outputs": [
    {
     "name": "stdout",
     "output_type": "stream",
     "text": [
      "['data', 'conv1_1_weight', 'conv1_1_bias', 'conv1_2_weight', 'conv1_2_bias', 'conv2_1_weight', 'conv2_1_bias', 'conv2_2_weight', 'conv2_2_bias', 'conv3_1_weight', 'conv3_1_bias']\n"
     ]
    }
   ],
   "source": [
    "import time\n",
    "import random\n",
    "import os\n",
    "import mxnet as mx\n",
    "import numpy as np\n",
    "np.set_printoptions(precision=2)\n",
    "import argparse\n",
    "import symbol\n",
    "\n",
    "from skimage import io, transform, exposure, color\n",
    "parser = argparse.ArgumentParser(description='mrf neural style')\n",
    "parser.add_argument('--style-image', type=str)\n",
    "parser.add_argument('--content-weight', nargs='+', type=float)\n",
    "parser.add_argument('--style-weight', nargs='+', type=float)\n",
    "parser.add_argument('--tv-weight', type=float)\n",
    "parser.add_argument('--num-image', type=int)\n",
    "parser.add_argument('--epochs', type=int)\n",
    "parser.add_argument('--style-size', nargs='+', type=int)\n",
    "parser.add_argument('--lr', type=float)\n",
    "parser.add_argument('--model-name', type=str)\n",
    "parser.add_argument('--num-res', type=int)\n",
    "parser.add_argument('--num-rotation', type=int)\n",
    "parser.add_argument('--num-scale', type=int)\n",
    "parser.add_argument('--stride', type=int)\n",
    "parser.add_argument('--patch-size', type=int)\n",
    "\n",
    "\n",
    "parser = parser.parse_args(\"--style-image /home/ubuntu/vatsal/neural_style/images/bark.jpg --content-weight 1e-1 3e-1 3e-1 --style-weight 1 1 1 --tv-weight 1e-5 --num-image 2 --epochs 30 --style-size 512 512 --lr 3e3 --model-name ./bark_encoder --num-res 3 --num-rotation 2 --num-scale 2 --stride 4 --patch-size 3\".split())\n",
    "\n",
    "VGGPATH = '../vgg19.params'\n",
    "RESNETPATH= '../resnet18.params'\n",
    "COCOPATH = '/home/ubuntu/data/train2014'\n",
    "\n",
    "try:\n",
    "    os.mkdir(args.model_name)\n",
    "    os.mkdir('%s/data'%args.model_name)\n",
    "    os.mkdir('%s/output'%args.model_name)\n",
    "except:\n",
    "    pass\n",
    "\n",
    "def postprocess_img(im):\n",
    "    im = im[0]\n",
    "    im[0,:] += 123.68\n",
    "    im[1,:] += 116.779\n",
    "    im[2,:] += 103.939\n",
    "    im = np.swapaxes(im, 0, 2)\n",
    "    im = np.swapaxes(im, 0, 1)\n",
    "    im[im<0] = 0\n",
    "    im[im>255] = 255\n",
    "    return im.astype(np.uint8)\n",
    "\n",
    "def crop_img(im, size):\n",
    "    im = io.imread(im)\n",
    "    if len(im.shape) == 2:\n",
    "        im = color.gray2rgb(im)\n",
    "    if im.shape[0]*size[1] > im.shape[1]*size[0]:\n",
    "        c = (im.shape[0]-1.*im.shape[1]/size[1]*size[0]) / 2\n",
    "        c = int(c)\n",
    "        im = im[c:-(1+c),:,:]\n",
    "    else:\n",
    "        c = (im.shape[1]-1.*im.shape[0]/size[0]*size[1]) / 2\n",
    "        c = int(c)\n",
    "        im = im[:,c:-(1+c),:]\n",
    "    im = transform.resize(im, size)\n",
    "    im = exposure.equalize_adapthist(im, kernel_size=(16,16), clip_limit=0.01)\n",
    "    im *= 255\n",
    "    return im\n",
    "\n",
    "def preprocess_img(im):\n",
    "    im = im.astype(np.float32)\n",
    "    im = np.swapaxes(im, 0, 2)\n",
    "    im = np.swapaxes(im, 1, 2)\n",
    "    im[0,:] -= 123.68\n",
    "    im[1,:] -= 116.779\n",
    "    im[2,:] -= 103.939\n",
    "    im = np.expand_dims(im, 0)\n",
    "    return im\n",
    "\n",
    "def get_mrf_executor(layer, patch_shape):\n",
    "    patch_size = patch_shape[-1]\n",
    "    data = mx.sym.Variable('conv')\n",
    "    weight = mx.sym.Variable('weight')\n",
    "    dist = mx.sym.Convolution(data=data, weight=weight, kernel=(patch_size, patch_size), num_filter=patch_shape[0], no_bias=True)\n",
    "    dist_executor = dist.bind(args={'conv': layer, 'weight': mx.nd.zeros(patch_shape, mx.gpu())}, ctx=mx.gpu())\n",
    "    return dist_executor\n",
    "\n",
    "def get_tv_grad_executor(img, ctx, tv_weight):\n",
    "    nchannel = img.shape[1]\n",
    "    simg = mx.sym.Variable(\"img\")\n",
    "    skernel = mx.sym.Variable(\"kernel\")\n",
    "    channels = mx.sym.SliceChannel(simg, num_outputs=nchannel)\n",
    "    out = mx.sym.Concat(*[\n",
    "        mx.sym.Convolution(data=channels[i], weight=skernel,\n",
    "                           num_filter=1,\n",
    "                           kernel=(3, 3), pad=(1,1),\n",
    "                           no_bias=True, stride=(1,1))\n",
    "        for i in range(nchannel)])\n",
    "    kernel = mx.nd.array(np.array([[0, -1, 0],\n",
    "                                   [-1, 4, -1],\n",
    "                                   [0, -1, 0]])\n",
    "                         .reshape((1, 1, 3, 3)),\n",
    "                         ctx) / 8.0\n",
    "    out = out * tv_weight\n",
    "    return out.bind(ctx, args={\"img\": img,\n",
    "                               \"kernel\": kernel})\n",
    "\n",
    "vgg_symbol = symbol.descriptor_symbol(args.num_res)\n",
    "arg_names = vgg_symbol.list_arguments()\n",
    "print(arg_names)\n",
    "arg_dict = {}\n",
    "pretrained = mx.nd.load(VGGPATH)\n",
    "for name in arg_names:\n",
    "    if name == \"data\":\n",
    "        continue\n",
    "    key = \"arg:\" + name\n",
    "    if key in pretrained:\n",
    "        arg_dict[name] = pretrained[key].copyto(mx.gpu())\n",
    "del pretrained\n"
   ]
  },
  {
   "cell_type": "code",
   "execution_count": 24,
   "metadata": {},
   "outputs": [
    {
     "name": "stderr",
     "output_type": "stream",
     "text": [
      "/usr/local/lib/python3.5/dist-packages/skimage/transform/_warps.py:84: UserWarning: The default mode, 'constant', will be changed to 'reflect' in skimage 0.15.\n",
      "  warn(\"The default mode, 'constant', will be changed to 'reflect' in \"\n",
      "/usr/local/lib/python3.5/dist-packages/skimage/util/dtype.py:122: UserWarning: Possible precision loss when converting from float64 to uint16\n",
      "  .format(dtypeobj_in, dtypeobj_out))\n"
     ]
    }
   ],
   "source": [
    "img = None\n",
    "args.style_size[0] = args.style_size[0] // 4 * 4\n",
    "args.style_size[1] = args.style_size[1] // 4 * 4\n",
    "size = [512, 512]\n",
    "args.style_size = args.style_size[::-1]\n",
    "rotations = [15*i for i in range(-args.num_rotation, args.num_rotation+1)]\n",
    "scales = [1.05**i for i in range(-args.num_scale, args.num_scale+1)]\n",
    "\n",
    "# extract patches\n",
    "style_img = crop_img(args.style_image, args.style_size) \n",
    "patches = [[] for i in range(args.num_res)]\n",
    "patches_normed = []\n",
    "for s in scales:\n",
    "    scaled = transform.rescale(style_img, s)\n",
    "    arg_dict['data'] = mx.nd.zeros([len(rotations),3,scaled.shape[0],scaled.shape[1]], mx.gpu())\n",
    "    for r in range(len(rotations)):\n",
    "        arg_dict['data'][r:r+1] = preprocess_img(transform.rotate(scaled, rotations[r], mode='reflect'))\n",
    "    #print(arg_dict.keys())\n",
    "    #vgg_executor = vgg_symbol.bind(ctx=mx.gpu(), args=arg_dict, grad_req='null')\n",
    "    vgg_executor = vgg_symbol.bind(ctx=mx.gpu(), args=arg_dict, grad_req='null')\n",
    "    vgg_executor.forward()\n",
    "    for l in range(args.num_res):\n",
    "        tmp = vgg_executor.outputs[l].asnumpy()\n",
    "        for jj in range(0, 464-args.patch_size+1, args.stride):\n",
    "            for r in range(len(rotations)):\n",
    "                patches[l].append(tmp[r,jj:jj+args.patch_size])\n",
    "\n"
   ]
  },
  {
   "cell_type": "code",
   "execution_count": 33,
   "metadata": {},
   "outputs": [
    {
     "name": "stdout",
     "output_type": "stream",
     "text": [
      "(5, 256, 141, 141)\n",
      "(564, 564, 3)\n",
      "(5, 3, 564, 564)\n",
      "(5, 256, 141, 141) 5 3\n",
      "(1, 3, 564, 564)\n",
      "(2900,)\n",
      "2900\n",
      "[2900, 1]\n"
     ]
    }
   ],
   "source": [
    "print(vgg_executor.outputs[0].shape)\n",
    "print(scaled.shape)\n",
    "print(arg_dict['data'].shape)\n",
    "print(tmp.shape, len(rotations), args.patch_size)\n",
    "print(preprocess_img(transform.rotate(scaled, rotations[r], mode='reflect')).shape)\n",
    "print(np.shape(patches[l]))\n",
    "print(patches[l].shape[0]) \n",
    "np.reshape(patches[l], [patches[l].shape[0], int(np.prod(patches[l].shape[1:]))])"
   ]
  },
  {
   "cell_type": "code",
   "execution_count": 34,
   "metadata": {},
   "outputs": [
    {
     "ename": "AttributeError",
     "evalue": "'numpy.ndarray' object has no attribute 'sqrt'",
     "output_type": "error",
     "traceback": [
      "\u001b[0;31m---------------------------------------------------------------------------\u001b[0m",
      "\u001b[0;31mAttributeError\u001b[0m                            Traceback (most recent call last)",
      "\u001b[0;32m<ipython-input-34-c514d9aa93f4>\u001b[0m in \u001b[0;36m<module>\u001b[0;34m()\u001b[0m\n\u001b[1;32m      1\u001b[0m \u001b[0;32mfor\u001b[0m \u001b[0ml\u001b[0m \u001b[0;32min\u001b[0m \u001b[0mrange\u001b[0m\u001b[0;34m(\u001b[0m\u001b[0margs\u001b[0m\u001b[0;34m.\u001b[0m\u001b[0mnum_res\u001b[0m\u001b[0;34m)\u001b[0m\u001b[0;34m:\u001b[0m\u001b[0;34m\u001b[0m\u001b[0m\n\u001b[1;32m      2\u001b[0m     \u001b[0mpatches\u001b[0m\u001b[0;34m[\u001b[0m\u001b[0ml\u001b[0m\u001b[0;34m]\u001b[0m \u001b[0;34m=\u001b[0m \u001b[0mnp\u001b[0m\u001b[0;34m.\u001b[0m\u001b[0marray\u001b[0m\u001b[0;34m(\u001b[0m\u001b[0mpatches\u001b[0m\u001b[0;34m[\u001b[0m\u001b[0ml\u001b[0m\u001b[0;34m]\u001b[0m\u001b[0;34m)\u001b[0m\u001b[0;34m\u001b[0m\u001b[0m\n\u001b[0;32m----> 3\u001b[0;31m     \u001b[0mtmp\u001b[0m \u001b[0;34m=\u001b[0m \u001b[0mnp\u001b[0m\u001b[0;34m.\u001b[0m\u001b[0mlinalg\u001b[0m\u001b[0;34m.\u001b[0m\u001b[0mnorm\u001b[0m\u001b[0;34m(\u001b[0m\u001b[0mnp\u001b[0m\u001b[0;34m.\u001b[0m\u001b[0mreshape\u001b[0m\u001b[0;34m(\u001b[0m\u001b[0mpatches\u001b[0m\u001b[0;34m[\u001b[0m\u001b[0ml\u001b[0m\u001b[0;34m]\u001b[0m\u001b[0;34m,\u001b[0m \u001b[0;34m[\u001b[0m\u001b[0mpatches\u001b[0m\u001b[0;34m[\u001b[0m\u001b[0ml\u001b[0m\u001b[0;34m]\u001b[0m\u001b[0;34m.\u001b[0m\u001b[0mshape\u001b[0m\u001b[0;34m[\u001b[0m\u001b[0;36m0\u001b[0m\u001b[0;34m]\u001b[0m\u001b[0;34m,\u001b[0m \u001b[0mint\u001b[0m\u001b[0;34m(\u001b[0m\u001b[0mnp\u001b[0m\u001b[0;34m.\u001b[0m\u001b[0mprod\u001b[0m\u001b[0;34m(\u001b[0m\u001b[0mpatches\u001b[0m\u001b[0;34m[\u001b[0m\u001b[0ml\u001b[0m\u001b[0;34m]\u001b[0m\u001b[0;34m.\u001b[0m\u001b[0mshape\u001b[0m\u001b[0;34m[\u001b[0m\u001b[0;36m1\u001b[0m\u001b[0;34m:\u001b[0m\u001b[0;34m]\u001b[0m\u001b[0;34m)\u001b[0m\u001b[0;34m)\u001b[0m\u001b[0;34m]\u001b[0m\u001b[0;34m)\u001b[0m\u001b[0;34m,\u001b[0m \u001b[0maxis\u001b[0m\u001b[0;34m=\u001b[0m\u001b[0;36m1\u001b[0m\u001b[0;34m)\u001b[0m\u001b[0;34m\u001b[0m\u001b[0m\n\u001b[0m\u001b[1;32m      4\u001b[0m     \u001b[0mnorm\u001b[0m \u001b[0;34m=\u001b[0m \u001b[0mnp\u001b[0m\u001b[0;34m.\u001b[0m\u001b[0mreshape\u001b[0m\u001b[0;34m(\u001b[0m\u001b[0mtmp\u001b[0m\u001b[0;34m,\u001b[0m \u001b[0;34m[\u001b[0m\u001b[0mtmp\u001b[0m\u001b[0;34m.\u001b[0m\u001b[0mshape\u001b[0m\u001b[0;34m[\u001b[0m\u001b[0;36m0\u001b[0m\u001b[0;34m]\u001b[0m\u001b[0;34m,\u001b[0m\u001b[0;36m1\u001b[0m\u001b[0;34m]\u001b[0m\u001b[0;34m)\u001b[0m\u001b[0;34m\u001b[0m\u001b[0m\n\u001b[1;32m      5\u001b[0m     \u001b[0mpatches_normed\u001b[0m\u001b[0;34m.\u001b[0m\u001b[0mappend\u001b[0m\u001b[0;34m(\u001b[0m\u001b[0mpatches\u001b[0m\u001b[0;34m[\u001b[0m\u001b[0ml\u001b[0m\u001b[0;34m]\u001b[0m\u001b[0;34m/\u001b[0m\u001b[0mnorm\u001b[0m\u001b[0;34m)\u001b[0m\u001b[0;34m\u001b[0m\u001b[0m\n",
      "\u001b[0;32m/usr/local/lib/python3.5/dist-packages/numpy/linalg/linalg.py\u001b[0m in \u001b[0;36mnorm\u001b[0;34m(x, ord, axis, keepdims)\u001b[0m\n\u001b[1;32m   2196\u001b[0m             \u001b[0;31m# special case for speedup\u001b[0m\u001b[0;34m\u001b[0m\u001b[0;34m\u001b[0m\u001b[0m\n\u001b[1;32m   2197\u001b[0m             \u001b[0ms\u001b[0m \u001b[0;34m=\u001b[0m \u001b[0;34m(\u001b[0m\u001b[0mx\u001b[0m\u001b[0;34m.\u001b[0m\u001b[0mconj\u001b[0m\u001b[0;34m(\u001b[0m\u001b[0;34m)\u001b[0m \u001b[0;34m*\u001b[0m \u001b[0mx\u001b[0m\u001b[0;34m)\u001b[0m\u001b[0;34m.\u001b[0m\u001b[0mreal\u001b[0m\u001b[0;34m\u001b[0m\u001b[0m\n\u001b[0;32m-> 2198\u001b[0;31m             \u001b[0;32mreturn\u001b[0m \u001b[0msqrt\u001b[0m\u001b[0;34m(\u001b[0m\u001b[0madd\u001b[0m\u001b[0;34m.\u001b[0m\u001b[0mreduce\u001b[0m\u001b[0;34m(\u001b[0m\u001b[0ms\u001b[0m\u001b[0;34m,\u001b[0m \u001b[0maxis\u001b[0m\u001b[0;34m=\u001b[0m\u001b[0maxis\u001b[0m\u001b[0;34m,\u001b[0m \u001b[0mkeepdims\u001b[0m\u001b[0;34m=\u001b[0m\u001b[0mkeepdims\u001b[0m\u001b[0;34m)\u001b[0m\u001b[0;34m)\u001b[0m\u001b[0;34m\u001b[0m\u001b[0m\n\u001b[0m\u001b[1;32m   2199\u001b[0m         \u001b[0;32melse\u001b[0m\u001b[0;34m:\u001b[0m\u001b[0;34m\u001b[0m\u001b[0m\n\u001b[1;32m   2200\u001b[0m             \u001b[0;32mtry\u001b[0m\u001b[0;34m:\u001b[0m\u001b[0;34m\u001b[0m\u001b[0m\n",
      "\u001b[0;31mAttributeError\u001b[0m: 'numpy.ndarray' object has no attribute 'sqrt'"
     ]
    }
   ],
   "source": [
    "for l in range(args.num_res):\n",
    "    patches[l] = np.array(patches[l])\n",
    "    tmp = np.linalg.norm(np.reshape(patches[l], [patches[l].shape[0], int(np.prod(patches[l].shape[1:]))]), axis=1)\n",
    "    norm = np.reshape(tmp, [tmp.shape[0],1])\n",
    "    patches_normed.append(patches[l]/norm)\n",
    "    patches[l] = mx.nd.array(patches[l], mx.gpu())\n",
    "\n",
    "arg_dict['data'] = mx.nd.zeros([1,3,size[0],size[1]], mx.gpu())\n",
    "grad_dict = {\"data\": arg_dict[\"data\"].copyto(mx.gpu())}\n",
    "#vgg_executor = vgg_symbol.bind(ctx=mx.gpu(), args=arg_dict, args_grad=grad_dict, grad_req='write')\n",
    "vgg_executor = vgg_symbol.bind(ctx=mx.gpu(), args=arg_dict, args_grad=grad_dict, grad_req='write')\n",
    "tv_grad_executor = get_tv_grad_executor(vgg_executor.arg_dict['data'], mx.gpu(), args.tv_weight) \n",
    "optimizer = mx.optimizer.SGD(learning_rate=args.lr, wd=0e-0, momentum=0.9)\n",
    "\n",
    "# get mrf executor"
   ]
  },
  {
   "cell_type": "code",
   "execution_count": 32,
   "metadata": {},
   "outputs": [
    {
     "ename": "MXNetError",
     "evalue": "Error in operator convolution14: [08:26:25] src/operator/./convolution-inl.h:412: Check failed: dshp.ndim() == 4U (2 vs. 4) Input data should be 4D in batch-num_filter-y-x\n\nStack trace returned 10 entries:\n[bt] (0) /usr/local/lib/python3.5/dist-packages/mxnet-0.11.0-py3.5.egg/mxnet/libmxnet.so(_ZN4dmlc15LogMessageFatalD1Ev+0x3c) [0x7fa1a71ddf0c]\n[bt] (1) /usr/local/lib/python3.5/dist-packages/mxnet-0.11.0-py3.5.egg/mxnet/libmxnet.so(_ZNK5mxnet2op15ConvolutionProp10InferShapeEPSt6vectorIN4nnvm6TShapeESaIS4_EES7_S7_+0x529) [0x7fa1a803a6b9]\n[bt] (2) /usr/local/lib/python3.5/dist-packages/mxnet-0.11.0-py3.5.egg/mxnet/libmxnet.so(+0x136ca0a) [0x7fa1a7e43a0a]\n[bt] (3) /usr/local/lib/python3.5/dist-packages/mxnet-0.11.0-py3.5.egg/mxnet/libmxnet.so(+0x280bb23) [0x7fa1a92e2b23]\n[bt] (4) /usr/local/lib/python3.5/dist-packages/mxnet-0.11.0-py3.5.egg/mxnet/libmxnet.so(+0x280ceda) [0x7fa1a92e3eda]\n[bt] (5) /usr/local/lib/python3.5/dist-packages/mxnet-0.11.0-py3.5.egg/mxnet/libmxnet.so(+0x280dec6) [0x7fa1a92e4ec6]\n[bt] (6) /usr/local/lib/python3.5/dist-packages/mxnet-0.11.0-py3.5.egg/mxnet/libmxnet.so(_ZN4nnvm11ApplyPassesENS_5GraphERKSt6vectorINSt7__cxx1112basic_stringIcSt11char_traitsIcESaIcEEESaIS7_EE+0x32c) [0x7fa1a930b97c]\n[bt] (7) /usr/local/lib/python3.5/dist-packages/mxnet-0.11.0-py3.5.egg/mxnet/libmxnet.so(_ZN4nnvm9ApplyPassENS_5GraphERKNSt7__cxx1112basic_stringIcSt11char_traitsIcESaIcEEE+0x3c9) [0x7fa1a822a8a9]\n[bt] (8) /usr/local/lib/python3.5/dist-packages/mxnet-0.11.0-py3.5.egg/mxnet/libmxnet.so(_ZN4nnvm4pass10InferShapeENS_5GraphESt6vectorINS_6TShapeESaIS3_EENSt7__cxx1112basic_stringIcSt11char_traitsIcESaIcEEE+0x1f3) [0x7fa1a822e783]\n[bt] (9) /usr/local/lib/python3.5/dist-packages/mxnet-0.11.0-py3.5.egg/mxnet/libmxnet.so(_ZN5mxnet4exec13GraphExecutor4InitEN4nnvm6SymbolERKNS_7ContextERKSt3mapINSt7__cxx1112basic_stringIcSt11char_traitsIcESaIcEEES4_St4lessISD_ESaISt4pairIKSD_S4_EEERKSt6vectorINS_7NDArrayESaISO_EESS_RKSN_INS_9OpReqTypeESaIST_EESS_PNS_8ExecutorERKSt13unordered_mapINS2_9NodeEntryESO_NS2_13NodeEntryHashENS2_14NodeEntryEqualESaISG_IKS11_SO_EEE+0x121b) [0x7fa1a8291eeb]\n",
     "output_type": "error",
     "traceback": [
      "\u001b[0;31m---------------------------------------------------------------------------\u001b[0m",
      "\u001b[0;31mMXNetError\u001b[0m                                Traceback (most recent call last)",
      "\u001b[0;32m<ipython-input-32-fb57387fac56>\u001b[0m in \u001b[0;36m<module>\u001b[0;34m()\u001b[0m\n\u001b[1;32m      2\u001b[0m \u001b[0mtarget_patch\u001b[0m \u001b[0;34m=\u001b[0m \u001b[0;34m[\u001b[0m\u001b[0;34m]\u001b[0m\u001b[0;34m\u001b[0m\u001b[0m\n\u001b[1;32m      3\u001b[0m \u001b[0;32mfor\u001b[0m \u001b[0ml\u001b[0m \u001b[0;32min\u001b[0m \u001b[0mrange\u001b[0m\u001b[0;34m(\u001b[0m\u001b[0margs\u001b[0m\u001b[0;34m.\u001b[0m\u001b[0mnum_res\u001b[0m\u001b[0;34m)\u001b[0m\u001b[0;34m:\u001b[0m\u001b[0;34m\u001b[0m\u001b[0m\n\u001b[0;32m----> 4\u001b[0;31m     \u001b[0mmrf_executors\u001b[0m\u001b[0;34m.\u001b[0m\u001b[0mappend\u001b[0m\u001b[0;34m(\u001b[0m\u001b[0mget_mrf_executor\u001b[0m\u001b[0;34m(\u001b[0m\u001b[0mvgg_executor\u001b[0m\u001b[0;34m.\u001b[0m\u001b[0moutputs\u001b[0m\u001b[0;34m[\u001b[0m\u001b[0ml\u001b[0m\u001b[0;34m]\u001b[0m\u001b[0;34m,\u001b[0m \u001b[0mpatches\u001b[0m\u001b[0;34m[\u001b[0m\u001b[0ml\u001b[0m\u001b[0;34m]\u001b[0m\u001b[0;34m.\u001b[0m\u001b[0mshape\u001b[0m\u001b[0;34m)\u001b[0m\u001b[0;34m)\u001b[0m\u001b[0;34m\u001b[0m\u001b[0m\n\u001b[0m\u001b[1;32m      5\u001b[0m     \u001b[0mmrf_executors\u001b[0m\u001b[0;34m[\u001b[0m\u001b[0ml\u001b[0m\u001b[0;34m]\u001b[0m\u001b[0;34m.\u001b[0m\u001b[0marg_dict\u001b[0m\u001b[0;34m[\u001b[0m\u001b[0;34m'weight'\u001b[0m\u001b[0;34m]\u001b[0m\u001b[0;34m[\u001b[0m\u001b[0;34m:\u001b[0m\u001b[0;34m]\u001b[0m \u001b[0;34m=\u001b[0m \u001b[0mpatches_normed\u001b[0m\u001b[0;34m[\u001b[0m\u001b[0ml\u001b[0m\u001b[0;34m]\u001b[0m\u001b[0;34m\u001b[0m\u001b[0m\n\u001b[1;32m      6\u001b[0m \u001b[0;31m# get assign executor\u001b[0m\u001b[0;34m\u001b[0m\u001b[0;34m\u001b[0m\u001b[0m\n",
      "\u001b[0;32m<ipython-input-2-1554158eb78e>\u001b[0m in \u001b[0;36mget_mrf_executor\u001b[0;34m(layer, patch_shape)\u001b[0m\n\u001b[1;32m     64\u001b[0m     \u001b[0mweight\u001b[0m \u001b[0;34m=\u001b[0m \u001b[0mmx\u001b[0m\u001b[0;34m.\u001b[0m\u001b[0msym\u001b[0m\u001b[0;34m.\u001b[0m\u001b[0mVariable\u001b[0m\u001b[0;34m(\u001b[0m\u001b[0;34m'weight'\u001b[0m\u001b[0;34m)\u001b[0m\u001b[0;34m\u001b[0m\u001b[0m\n\u001b[1;32m     65\u001b[0m     \u001b[0mdist\u001b[0m \u001b[0;34m=\u001b[0m \u001b[0mmx\u001b[0m\u001b[0;34m.\u001b[0m\u001b[0msym\u001b[0m\u001b[0;34m.\u001b[0m\u001b[0mConvolution\u001b[0m\u001b[0;34m(\u001b[0m\u001b[0mdata\u001b[0m\u001b[0;34m=\u001b[0m\u001b[0mdata\u001b[0m\u001b[0;34m,\u001b[0m \u001b[0mweight\u001b[0m\u001b[0;34m=\u001b[0m\u001b[0mweight\u001b[0m\u001b[0;34m,\u001b[0m \u001b[0mkernel\u001b[0m\u001b[0;34m=\u001b[0m\u001b[0;34m(\u001b[0m\u001b[0mpatch_size\u001b[0m\u001b[0;34m,\u001b[0m \u001b[0mpatch_size\u001b[0m\u001b[0;34m)\u001b[0m\u001b[0;34m,\u001b[0m \u001b[0mnum_filter\u001b[0m\u001b[0;34m=\u001b[0m\u001b[0mpatch_shape\u001b[0m\u001b[0;34m[\u001b[0m\u001b[0;36m0\u001b[0m\u001b[0;34m]\u001b[0m\u001b[0;34m,\u001b[0m \u001b[0mno_bias\u001b[0m\u001b[0;34m=\u001b[0m\u001b[0;32mTrue\u001b[0m\u001b[0;34m)\u001b[0m\u001b[0;34m\u001b[0m\u001b[0m\n\u001b[0;32m---> 66\u001b[0;31m     \u001b[0mdist_executor\u001b[0m \u001b[0;34m=\u001b[0m \u001b[0mdist\u001b[0m\u001b[0;34m.\u001b[0m\u001b[0mbind\u001b[0m\u001b[0;34m(\u001b[0m\u001b[0margs\u001b[0m\u001b[0;34m=\u001b[0m\u001b[0;34m{\u001b[0m\u001b[0;34m'conv'\u001b[0m\u001b[0;34m:\u001b[0m \u001b[0mlayer\u001b[0m\u001b[0;34m,\u001b[0m \u001b[0;34m'weight'\u001b[0m\u001b[0;34m:\u001b[0m \u001b[0mmx\u001b[0m\u001b[0;34m.\u001b[0m\u001b[0mnd\u001b[0m\u001b[0;34m.\u001b[0m\u001b[0mzeros\u001b[0m\u001b[0;34m(\u001b[0m\u001b[0mpatch_shape\u001b[0m\u001b[0;34m,\u001b[0m \u001b[0mmx\u001b[0m\u001b[0;34m.\u001b[0m\u001b[0mgpu\u001b[0m\u001b[0;34m(\u001b[0m\u001b[0;34m)\u001b[0m\u001b[0;34m)\u001b[0m\u001b[0;34m}\u001b[0m\u001b[0;34m,\u001b[0m \u001b[0mctx\u001b[0m\u001b[0;34m=\u001b[0m\u001b[0mmx\u001b[0m\u001b[0;34m.\u001b[0m\u001b[0mgpu\u001b[0m\u001b[0;34m(\u001b[0m\u001b[0;34m)\u001b[0m\u001b[0;34m)\u001b[0m\u001b[0;34m\u001b[0m\u001b[0m\n\u001b[0m\u001b[1;32m     67\u001b[0m     \u001b[0;32mreturn\u001b[0m \u001b[0mdist_executor\u001b[0m\u001b[0;34m\u001b[0m\u001b[0m\n\u001b[1;32m     68\u001b[0m \u001b[0;34m\u001b[0m\u001b[0m\n",
      "\u001b[0;32m/usr/local/lib/python3.5/dist-packages/mxnet-0.11.0-py3.5.egg/mxnet/symbol.py\u001b[0m in \u001b[0;36mbind\u001b[0;34m(self, ctx, args, args_grad, grad_req, aux_states, group2ctx, shared_exec)\u001b[0m\n\u001b[1;32m   1651\u001b[0m                                          \u001b[0maux_args_handle\u001b[0m\u001b[0;34m,\u001b[0m\u001b[0;34m\u001b[0m\u001b[0m\n\u001b[1;32m   1652\u001b[0m                                          \u001b[0mshared_handle\u001b[0m\u001b[0;34m,\u001b[0m\u001b[0;34m\u001b[0m\u001b[0m\n\u001b[0;32m-> 1653\u001b[0;31m                                          ctypes.byref(handle)))\n\u001b[0m\u001b[1;32m   1654\u001b[0m         \u001b[0mexecutor\u001b[0m \u001b[0;34m=\u001b[0m \u001b[0mExecutor\u001b[0m\u001b[0;34m(\u001b[0m\u001b[0mhandle\u001b[0m\u001b[0;34m,\u001b[0m \u001b[0mself\u001b[0m\u001b[0;34m,\u001b[0m \u001b[0mctx\u001b[0m\u001b[0;34m,\u001b[0m \u001b[0mgrad_req\u001b[0m\u001b[0;34m,\u001b[0m \u001b[0mgroup2ctx\u001b[0m\u001b[0;34m)\u001b[0m\u001b[0;34m\u001b[0m\u001b[0m\n\u001b[1;32m   1655\u001b[0m         \u001b[0mexecutor\u001b[0m\u001b[0;34m.\u001b[0m\u001b[0marg_arrays\u001b[0m \u001b[0;34m=\u001b[0m \u001b[0margs\u001b[0m\u001b[0;34m\u001b[0m\u001b[0m\n",
      "\u001b[0;32m/usr/local/lib/python3.5/dist-packages/mxnet-0.11.0-py3.5.egg/mxnet/base.py\u001b[0m in \u001b[0;36mcheck_call\u001b[0;34m(ret)\u001b[0m\n\u001b[1;32m    127\u001b[0m     \"\"\"\n\u001b[1;32m    128\u001b[0m     \u001b[0;32mif\u001b[0m \u001b[0mret\u001b[0m \u001b[0;34m!=\u001b[0m \u001b[0;36m0\u001b[0m\u001b[0;34m:\u001b[0m\u001b[0;34m\u001b[0m\u001b[0m\n\u001b[0;32m--> 129\u001b[0;31m         \u001b[0;32mraise\u001b[0m \u001b[0mMXNetError\u001b[0m\u001b[0;34m(\u001b[0m\u001b[0mpy_str\u001b[0m\u001b[0;34m(\u001b[0m\u001b[0m_LIB\u001b[0m\u001b[0;34m.\u001b[0m\u001b[0mMXGetLastError\u001b[0m\u001b[0;34m(\u001b[0m\u001b[0;34m)\u001b[0m\u001b[0;34m)\u001b[0m\u001b[0;34m)\u001b[0m\u001b[0;34m\u001b[0m\u001b[0m\n\u001b[0m\u001b[1;32m    130\u001b[0m \u001b[0;34m\u001b[0m\u001b[0m\n\u001b[1;32m    131\u001b[0m \u001b[0;32mif\u001b[0m \u001b[0msys\u001b[0m\u001b[0;34m.\u001b[0m\u001b[0mversion_info\u001b[0m\u001b[0;34m[\u001b[0m\u001b[0;36m0\u001b[0m\u001b[0;34m]\u001b[0m \u001b[0;34m<\u001b[0m \u001b[0;36m3\u001b[0m\u001b[0;34m:\u001b[0m\u001b[0;34m\u001b[0m\u001b[0m\n",
      "\u001b[0;31mMXNetError\u001b[0m: Error in operator convolution14: [08:26:25] src/operator/./convolution-inl.h:412: Check failed: dshp.ndim() == 4U (2 vs. 4) Input data should be 4D in batch-num_filter-y-x\n\nStack trace returned 10 entries:\n[bt] (0) /usr/local/lib/python3.5/dist-packages/mxnet-0.11.0-py3.5.egg/mxnet/libmxnet.so(_ZN4dmlc15LogMessageFatalD1Ev+0x3c) [0x7fa1a71ddf0c]\n[bt] (1) /usr/local/lib/python3.5/dist-packages/mxnet-0.11.0-py3.5.egg/mxnet/libmxnet.so(_ZNK5mxnet2op15ConvolutionProp10InferShapeEPSt6vectorIN4nnvm6TShapeESaIS4_EES7_S7_+0x529) [0x7fa1a803a6b9]\n[bt] (2) /usr/local/lib/python3.5/dist-packages/mxnet-0.11.0-py3.5.egg/mxnet/libmxnet.so(+0x136ca0a) [0x7fa1a7e43a0a]\n[bt] (3) /usr/local/lib/python3.5/dist-packages/mxnet-0.11.0-py3.5.egg/mxnet/libmxnet.so(+0x280bb23) [0x7fa1a92e2b23]\n[bt] (4) /usr/local/lib/python3.5/dist-packages/mxnet-0.11.0-py3.5.egg/mxnet/libmxnet.so(+0x280ceda) [0x7fa1a92e3eda]\n[bt] (5) /usr/local/lib/python3.5/dist-packages/mxnet-0.11.0-py3.5.egg/mxnet/libmxnet.so(+0x280dec6) [0x7fa1a92e4ec6]\n[bt] (6) /usr/local/lib/python3.5/dist-packages/mxnet-0.11.0-py3.5.egg/mxnet/libmxnet.so(_ZN4nnvm11ApplyPassesENS_5GraphERKSt6vectorINSt7__cxx1112basic_stringIcSt11char_traitsIcESaIcEEESaIS7_EE+0x32c) [0x7fa1a930b97c]\n[bt] (7) /usr/local/lib/python3.5/dist-packages/mxnet-0.11.0-py3.5.egg/mxnet/libmxnet.so(_ZN4nnvm9ApplyPassENS_5GraphERKNSt7__cxx1112basic_stringIcSt11char_traitsIcESaIcEEE+0x3c9) [0x7fa1a822a8a9]\n[bt] (8) /usr/local/lib/python3.5/dist-packages/mxnet-0.11.0-py3.5.egg/mxnet/libmxnet.so(_ZN4nnvm4pass10InferShapeENS_5GraphESt6vectorINS_6TShapeESaIS3_EENSt7__cxx1112basic_stringIcSt11char_traitsIcESaIcEEE+0x1f3) [0x7fa1a822e783]\n[bt] (9) /usr/local/lib/python3.5/dist-packages/mxnet-0.11.0-py3.5.egg/mxnet/libmxnet.so(_ZN5mxnet4exec13GraphExecutor4InitEN4nnvm6SymbolERKNS_7ContextERKSt3mapINSt7__cxx1112basic_stringIcSt11char_traitsIcESaIcEEES4_St4lessISD_ESaISt4pairIKSD_S4_EEERKSt6vectorINS_7NDArrayESaISO_EESS_RKSN_INS_9OpReqTypeESaIST_EESS_PNS_8ExecutorERKSt13unordered_mapINS2_9NodeEntryESO_NS2_13NodeEntryHashENS2_14NodeEntryEqualESaISG_IKS11_SO_EEE+0x121b) [0x7fa1a8291eeb]\n"
     ]
    }
   ],
   "source": [
    "mrf_executors = []\n",
    "target_patch = []\n",
    "for l in range(args.num_res):\n",
    "    mrf_executors.append(get_mrf_executor(vgg_executor.outputs[l], patches[l].shape))\n",
    "    mrf_executors[l].arg_dict['weight'][:] = patches_normed[l]\n",
    "# get assign executor\n",
    "pcs = []\n",
    "ass_executors = []\n",
    "nns = []\n",
    "for l in range(args.num_res):\n",
    "    pc = np.zeros(vgg_executor.outputs[l].shape)\n",
    "    for i1 in range(0, vgg_executor.outputs[l].shape[2]-args.patch_size+1):\n",
    "        for i2 in range(0, vgg_executor.outputs[l].shape[3]-args.patch_size+1):\n",
    "            pc[0,:,i1:i1+args.patch_size,i2:i2+args.patch_size] += 1\n",
    "    pc = mx.nd.array(pc, mx.gpu())\n",
    "    nn = mx.nd.zeros([vgg_executor.outputs[l].shape[2]-args.patch_size+1, vgg_executor.outputs[l].shape[3]-args.patch_size+1], mx.gpu())\n",
    "    assign_symbol = symbol.assign_symbol()\n",
    "    assign_executor = assign_symbol.bind(args={'source':patches[l], 'nn':nn}, ctx=mx.gpu())\n",
    "    assign_executor.forward()\n",
    "    pcs.append(pc)\n",
    "    ass_executors.append(assign_executor)\n",
    "    nns.append(nn)\n",
    "\n",
    "img_list = os.listdir(COCOPATH)"
   ]
  },
  {
   "cell_type": "code",
   "execution_count": 33,
   "metadata": {},
   "outputs": [
    {
     "name": "stdout",
     "output_type": "stream",
     "text": [
      "(1, 512)\n",
      "(2900, 3)\n"
     ]
    },
    {
     "ename": "MXNetError",
     "evalue": "Error in operator convolution15: [08:26:26] src/operator/./convolution-inl.h:412: Check failed: dshp.ndim() == 4U (2 vs. 4) Input data should be 4D in batch-num_filter-y-x\n\nStack trace returned 10 entries:\n[bt] (0) /usr/local/lib/python3.5/dist-packages/mxnet-0.11.0-py3.5.egg/mxnet/libmxnet.so(_ZN4dmlc15LogMessageFatalD1Ev+0x3c) [0x7fa1a71ddf0c]\n[bt] (1) /usr/local/lib/python3.5/dist-packages/mxnet-0.11.0-py3.5.egg/mxnet/libmxnet.so(_ZNK5mxnet2op15ConvolutionProp10InferShapeEPSt6vectorIN4nnvm6TShapeESaIS4_EES7_S7_+0x529) [0x7fa1a803a6b9]\n[bt] (2) /usr/local/lib/python3.5/dist-packages/mxnet-0.11.0-py3.5.egg/mxnet/libmxnet.so(+0x136ca0a) [0x7fa1a7e43a0a]\n[bt] (3) /usr/local/lib/python3.5/dist-packages/mxnet-0.11.0-py3.5.egg/mxnet/libmxnet.so(+0x280bb23) [0x7fa1a92e2b23]\n[bt] (4) /usr/local/lib/python3.5/dist-packages/mxnet-0.11.0-py3.5.egg/mxnet/libmxnet.so(+0x280ceda) [0x7fa1a92e3eda]\n[bt] (5) /usr/local/lib/python3.5/dist-packages/mxnet-0.11.0-py3.5.egg/mxnet/libmxnet.so(+0x280dec6) [0x7fa1a92e4ec6]\n[bt] (6) /usr/local/lib/python3.5/dist-packages/mxnet-0.11.0-py3.5.egg/mxnet/libmxnet.so(_ZN4nnvm11ApplyPassesENS_5GraphERKSt6vectorINSt7__cxx1112basic_stringIcSt11char_traitsIcESaIcEEESaIS7_EE+0x32c) [0x7fa1a930b97c]\n[bt] (7) /usr/local/lib/python3.5/dist-packages/mxnet-0.11.0-py3.5.egg/mxnet/libmxnet.so(_ZN4nnvm9ApplyPassENS_5GraphERKNSt7__cxx1112basic_stringIcSt11char_traitsIcESaIcEEE+0x3c9) [0x7fa1a822a8a9]\n[bt] (8) /usr/local/lib/python3.5/dist-packages/mxnet-0.11.0-py3.5.egg/mxnet/libmxnet.so(_ZN4nnvm4pass10InferShapeENS_5GraphESt6vectorINS_6TShapeESaIS3_EENSt7__cxx1112basic_stringIcSt11char_traitsIcESaIcEEE+0x1f3) [0x7fa1a822e783]\n[bt] (9) /usr/local/lib/python3.5/dist-packages/mxnet-0.11.0-py3.5.egg/mxnet/libmxnet.so(_ZN5mxnet4exec13GraphExecutor4InitEN4nnvm6SymbolERKNS_7ContextERKSt3mapINSt7__cxx1112basic_stringIcSt11char_traitsIcESaIcEEES4_St4lessISD_ESaISt4pairIKSD_S4_EEERKSt6vectorINS_7NDArrayESaISO_EESS_RKSN_INS_9OpReqTypeESaIST_EESS_PNS_8ExecutorERKSt13unordered_mapINS2_9NodeEntryESO_NS2_13NodeEntryHashENS2_14NodeEntryEqualESaISG_IKS11_SO_EEE+0x121b) [0x7fa1a8291eeb]\n",
     "output_type": "error",
     "traceback": [
      "\u001b[0;31m---------------------------------------------------------------------------\u001b[0m",
      "\u001b[0;31mMXNetError\u001b[0m                                Traceback (most recent call last)",
      "\u001b[0;32m<ipython-input-33-bebb6ab7cab7>\u001b[0m in \u001b[0;36m<module>\u001b[0;34m()\u001b[0m\n\u001b[1;32m      2\u001b[0m \u001b[0mprint\u001b[0m\u001b[0;34m(\u001b[0m\u001b[0mvgg_executor\u001b[0m\u001b[0;34m.\u001b[0m\u001b[0moutputs\u001b[0m\u001b[0;34m[\u001b[0m\u001b[0;36m0\u001b[0m\u001b[0;34m]\u001b[0m\u001b[0;34m.\u001b[0m\u001b[0mshape\u001b[0m\u001b[0;34m)\u001b[0m\u001b[0;34m\u001b[0m\u001b[0m\n\u001b[1;32m      3\u001b[0m \u001b[0mprint\u001b[0m\u001b[0;34m(\u001b[0m\u001b[0mpatches\u001b[0m\u001b[0;34m[\u001b[0m\u001b[0ml\u001b[0m\u001b[0;34m]\u001b[0m\u001b[0;34m.\u001b[0m\u001b[0mshape\u001b[0m\u001b[0;34m)\u001b[0m\u001b[0;34m\u001b[0m\u001b[0m\n\u001b[0;32m----> 4\u001b[0;31m \u001b[0mget_mrf_executor\u001b[0m\u001b[0;34m(\u001b[0m\u001b[0mvgg_executor\u001b[0m\u001b[0;34m.\u001b[0m\u001b[0moutputs\u001b[0m\u001b[0;34m[\u001b[0m\u001b[0ml\u001b[0m\u001b[0;34m]\u001b[0m\u001b[0;34m,\u001b[0m \u001b[0mpatches\u001b[0m\u001b[0;34m[\u001b[0m\u001b[0ml\u001b[0m\u001b[0;34m]\u001b[0m\u001b[0;34m.\u001b[0m\u001b[0mshape\u001b[0m\u001b[0;34m)\u001b[0m\u001b[0;34m\u001b[0m\u001b[0m\n\u001b[0m",
      "\u001b[0;32m<ipython-input-2-1554158eb78e>\u001b[0m in \u001b[0;36mget_mrf_executor\u001b[0;34m(layer, patch_shape)\u001b[0m\n\u001b[1;32m     64\u001b[0m     \u001b[0mweight\u001b[0m \u001b[0;34m=\u001b[0m \u001b[0mmx\u001b[0m\u001b[0;34m.\u001b[0m\u001b[0msym\u001b[0m\u001b[0;34m.\u001b[0m\u001b[0mVariable\u001b[0m\u001b[0;34m(\u001b[0m\u001b[0;34m'weight'\u001b[0m\u001b[0;34m)\u001b[0m\u001b[0;34m\u001b[0m\u001b[0m\n\u001b[1;32m     65\u001b[0m     \u001b[0mdist\u001b[0m \u001b[0;34m=\u001b[0m \u001b[0mmx\u001b[0m\u001b[0;34m.\u001b[0m\u001b[0msym\u001b[0m\u001b[0;34m.\u001b[0m\u001b[0mConvolution\u001b[0m\u001b[0;34m(\u001b[0m\u001b[0mdata\u001b[0m\u001b[0;34m=\u001b[0m\u001b[0mdata\u001b[0m\u001b[0;34m,\u001b[0m \u001b[0mweight\u001b[0m\u001b[0;34m=\u001b[0m\u001b[0mweight\u001b[0m\u001b[0;34m,\u001b[0m \u001b[0mkernel\u001b[0m\u001b[0;34m=\u001b[0m\u001b[0;34m(\u001b[0m\u001b[0mpatch_size\u001b[0m\u001b[0;34m,\u001b[0m \u001b[0mpatch_size\u001b[0m\u001b[0;34m)\u001b[0m\u001b[0;34m,\u001b[0m \u001b[0mnum_filter\u001b[0m\u001b[0;34m=\u001b[0m\u001b[0mpatch_shape\u001b[0m\u001b[0;34m[\u001b[0m\u001b[0;36m0\u001b[0m\u001b[0;34m]\u001b[0m\u001b[0;34m,\u001b[0m \u001b[0mno_bias\u001b[0m\u001b[0;34m=\u001b[0m\u001b[0;32mTrue\u001b[0m\u001b[0;34m)\u001b[0m\u001b[0;34m\u001b[0m\u001b[0m\n\u001b[0;32m---> 66\u001b[0;31m     \u001b[0mdist_executor\u001b[0m \u001b[0;34m=\u001b[0m \u001b[0mdist\u001b[0m\u001b[0;34m.\u001b[0m\u001b[0mbind\u001b[0m\u001b[0;34m(\u001b[0m\u001b[0margs\u001b[0m\u001b[0;34m=\u001b[0m\u001b[0;34m{\u001b[0m\u001b[0;34m'conv'\u001b[0m\u001b[0;34m:\u001b[0m \u001b[0mlayer\u001b[0m\u001b[0;34m,\u001b[0m \u001b[0;34m'weight'\u001b[0m\u001b[0;34m:\u001b[0m \u001b[0mmx\u001b[0m\u001b[0;34m.\u001b[0m\u001b[0mnd\u001b[0m\u001b[0;34m.\u001b[0m\u001b[0mzeros\u001b[0m\u001b[0;34m(\u001b[0m\u001b[0mpatch_shape\u001b[0m\u001b[0;34m,\u001b[0m \u001b[0mmx\u001b[0m\u001b[0;34m.\u001b[0m\u001b[0mgpu\u001b[0m\u001b[0;34m(\u001b[0m\u001b[0;34m)\u001b[0m\u001b[0;34m)\u001b[0m\u001b[0;34m}\u001b[0m\u001b[0;34m,\u001b[0m \u001b[0mctx\u001b[0m\u001b[0;34m=\u001b[0m\u001b[0mmx\u001b[0m\u001b[0;34m.\u001b[0m\u001b[0mgpu\u001b[0m\u001b[0;34m(\u001b[0m\u001b[0;34m)\u001b[0m\u001b[0;34m)\u001b[0m\u001b[0;34m\u001b[0m\u001b[0m\n\u001b[0m\u001b[1;32m     67\u001b[0m     \u001b[0;32mreturn\u001b[0m \u001b[0mdist_executor\u001b[0m\u001b[0;34m\u001b[0m\u001b[0m\n\u001b[1;32m     68\u001b[0m \u001b[0;34m\u001b[0m\u001b[0m\n",
      "\u001b[0;32m/usr/local/lib/python3.5/dist-packages/mxnet-0.11.0-py3.5.egg/mxnet/symbol.py\u001b[0m in \u001b[0;36mbind\u001b[0;34m(self, ctx, args, args_grad, grad_req, aux_states, group2ctx, shared_exec)\u001b[0m\n\u001b[1;32m   1651\u001b[0m                                          \u001b[0maux_args_handle\u001b[0m\u001b[0;34m,\u001b[0m\u001b[0;34m\u001b[0m\u001b[0m\n\u001b[1;32m   1652\u001b[0m                                          \u001b[0mshared_handle\u001b[0m\u001b[0;34m,\u001b[0m\u001b[0;34m\u001b[0m\u001b[0m\n\u001b[0;32m-> 1653\u001b[0;31m                                          ctypes.byref(handle)))\n\u001b[0m\u001b[1;32m   1654\u001b[0m         \u001b[0mexecutor\u001b[0m \u001b[0;34m=\u001b[0m \u001b[0mExecutor\u001b[0m\u001b[0;34m(\u001b[0m\u001b[0mhandle\u001b[0m\u001b[0;34m,\u001b[0m \u001b[0mself\u001b[0m\u001b[0;34m,\u001b[0m \u001b[0mctx\u001b[0m\u001b[0;34m,\u001b[0m \u001b[0mgrad_req\u001b[0m\u001b[0;34m,\u001b[0m \u001b[0mgroup2ctx\u001b[0m\u001b[0;34m)\u001b[0m\u001b[0;34m\u001b[0m\u001b[0m\n\u001b[1;32m   1655\u001b[0m         \u001b[0mexecutor\u001b[0m\u001b[0;34m.\u001b[0m\u001b[0marg_arrays\u001b[0m \u001b[0;34m=\u001b[0m \u001b[0margs\u001b[0m\u001b[0;34m\u001b[0m\u001b[0m\n",
      "\u001b[0;32m/usr/local/lib/python3.5/dist-packages/mxnet-0.11.0-py3.5.egg/mxnet/base.py\u001b[0m in \u001b[0;36mcheck_call\u001b[0;34m(ret)\u001b[0m\n\u001b[1;32m    127\u001b[0m     \"\"\"\n\u001b[1;32m    128\u001b[0m     \u001b[0;32mif\u001b[0m \u001b[0mret\u001b[0m \u001b[0;34m!=\u001b[0m \u001b[0;36m0\u001b[0m\u001b[0;34m:\u001b[0m\u001b[0;34m\u001b[0m\u001b[0m\n\u001b[0;32m--> 129\u001b[0;31m         \u001b[0;32mraise\u001b[0m \u001b[0mMXNetError\u001b[0m\u001b[0;34m(\u001b[0m\u001b[0mpy_str\u001b[0m\u001b[0;34m(\u001b[0m\u001b[0m_LIB\u001b[0m\u001b[0;34m.\u001b[0m\u001b[0mMXGetLastError\u001b[0m\u001b[0;34m(\u001b[0m\u001b[0;34m)\u001b[0m\u001b[0;34m)\u001b[0m\u001b[0;34m)\u001b[0m\u001b[0;34m\u001b[0m\u001b[0m\n\u001b[0m\u001b[1;32m    130\u001b[0m \u001b[0;34m\u001b[0m\u001b[0m\n\u001b[1;32m    131\u001b[0m \u001b[0;32mif\u001b[0m \u001b[0msys\u001b[0m\u001b[0;34m.\u001b[0m\u001b[0mversion_info\u001b[0m\u001b[0;34m[\u001b[0m\u001b[0;36m0\u001b[0m\u001b[0;34m]\u001b[0m \u001b[0;34m<\u001b[0m \u001b[0;36m3\u001b[0m\u001b[0;34m:\u001b[0m\u001b[0;34m\u001b[0m\u001b[0m\n",
      "\u001b[0;31mMXNetError\u001b[0m: Error in operator convolution15: [08:26:26] src/operator/./convolution-inl.h:412: Check failed: dshp.ndim() == 4U (2 vs. 4) Input data should be 4D in batch-num_filter-y-x\n\nStack trace returned 10 entries:\n[bt] (0) /usr/local/lib/python3.5/dist-packages/mxnet-0.11.0-py3.5.egg/mxnet/libmxnet.so(_ZN4dmlc15LogMessageFatalD1Ev+0x3c) [0x7fa1a71ddf0c]\n[bt] (1) /usr/local/lib/python3.5/dist-packages/mxnet-0.11.0-py3.5.egg/mxnet/libmxnet.so(_ZNK5mxnet2op15ConvolutionProp10InferShapeEPSt6vectorIN4nnvm6TShapeESaIS4_EES7_S7_+0x529) [0x7fa1a803a6b9]\n[bt] (2) /usr/local/lib/python3.5/dist-packages/mxnet-0.11.0-py3.5.egg/mxnet/libmxnet.so(+0x136ca0a) [0x7fa1a7e43a0a]\n[bt] (3) /usr/local/lib/python3.5/dist-packages/mxnet-0.11.0-py3.5.egg/mxnet/libmxnet.so(+0x280bb23) [0x7fa1a92e2b23]\n[bt] (4) /usr/local/lib/python3.5/dist-packages/mxnet-0.11.0-py3.5.egg/mxnet/libmxnet.so(+0x280ceda) [0x7fa1a92e3eda]\n[bt] (5) /usr/local/lib/python3.5/dist-packages/mxnet-0.11.0-py3.5.egg/mxnet/libmxnet.so(+0x280dec6) [0x7fa1a92e4ec6]\n[bt] (6) /usr/local/lib/python3.5/dist-packages/mxnet-0.11.0-py3.5.egg/mxnet/libmxnet.so(_ZN4nnvm11ApplyPassesENS_5GraphERKSt6vectorINSt7__cxx1112basic_stringIcSt11char_traitsIcESaIcEEESaIS7_EE+0x32c) [0x7fa1a930b97c]\n[bt] (7) /usr/local/lib/python3.5/dist-packages/mxnet-0.11.0-py3.5.egg/mxnet/libmxnet.so(_ZN4nnvm9ApplyPassENS_5GraphERKNSt7__cxx1112basic_stringIcSt11char_traitsIcESaIcEEE+0x3c9) [0x7fa1a822a8a9]\n[bt] (8) /usr/local/lib/python3.5/dist-packages/mxnet-0.11.0-py3.5.egg/mxnet/libmxnet.so(_ZN4nnvm4pass10InferShapeENS_5GraphESt6vectorINS_6TShapeESaIS3_EENSt7__cxx1112basic_stringIcSt11char_traitsIcESaIcEEE+0x1f3) [0x7fa1a822e783]\n[bt] (9) /usr/local/lib/python3.5/dist-packages/mxnet-0.11.0-py3.5.egg/mxnet/libmxnet.so(_ZN5mxnet4exec13GraphExecutor4InitEN4nnvm6SymbolERKNS_7ContextERKSt3mapINSt7__cxx1112basic_stringIcSt11char_traitsIcESaIcEEES4_St4lessISD_ESaISt4pairIKSD_S4_EEERKSt6vectorINS_7NDArrayESaISO_EESS_RKSN_INS_9OpReqTypeESaIST_EESS_PNS_8ExecutorERKSt13unordered_mapINS2_9NodeEntryESO_NS2_13NodeEntryHashENS2_14NodeEntryEqualESaISG_IKS11_SO_EEE+0x121b) [0x7fa1a8291eeb]\n"
     ]
    }
   ],
   "source": [
    "l = 0\n",
    "print(vgg_executor.outputs[0].shape)\n",
    "print(patches[l].shape)\n",
    "get_mrf_executor(vgg_executor.outputs[l], patches[l].shape)"
   ]
  },
  {
   "cell_type": "code",
   "execution_count": 72,
   "metadata": {},
   "outputs": [
    {
     "name": "stderr",
     "output_type": "stream",
     "text": [
      "/usr/local/lib/python3.5/dist-packages/skimage/transform/_warps.py:84: UserWarning: The default mode, 'constant', will be changed to 'reflect' in skimage 0.15.\n",
      "  warn(\"The default mode, 'constant', will be changed to 'reflect' in \"\n",
      "/usr/local/lib/python3.5/dist-packages/skimage/util/dtype.py:122: UserWarning: Possible precision loss when converting from float64 to uint16\n",
      "  .format(dtypeobj_in, dtypeobj_out))\n"
     ]
    },
    {
     "name": "stdout",
     "output_type": "stream",
     "text": [
      "<mxnet.executor.Executor object at 0x7f87b189b2b0>\n"
     ]
    },
    {
     "name": "stderr",
     "output_type": "stream",
     "text": [
      "/usr/local/lib/python3.5/dist-packages/skimage/util/dtype.py:122: UserWarning: Possible precision loss when converting from float64 to uint8\n",
      "  .format(dtypeobj_in, dtypeobj_out))\n"
     ]
    },
    {
     "ename": "NameError",
     "evalue": "name 'l' is not defined",
     "output_type": "error",
     "traceback": [
      "\u001b[0;31m---------------------------------------------------------------------------\u001b[0m",
      "\u001b[0;31mNameError\u001b[0m                                 Traceback (most recent call last)",
      "\u001b[0;32m<ipython-input-72-a5743d7b8d8f>\u001b[0m in \u001b[0;36m<module>\u001b[0;34m()\u001b[0m\n\u001b[1;32m     15\u001b[0m         \u001b[0mprint\u001b[0m\u001b[0;34m(\u001b[0m\u001b[0mvgg_executor\u001b[0m\u001b[0;34m)\u001b[0m\u001b[0;34m\u001b[0m\u001b[0m\n\u001b[1;32m     16\u001b[0m         \u001b[0;32mif\u001b[0m \u001b[0mepoch\u001b[0m \u001b[0;34m%\u001b[0m \u001b[0;36m10\u001b[0m \u001b[0;34m==\u001b[0m \u001b[0;36m0\u001b[0m\u001b[0;34m:\u001b[0m\u001b[0;34m\u001b[0m\u001b[0m\n\u001b[0;32m---> 17\u001b[0;31m             \u001b[0mmrf_executors\u001b[0m\u001b[0;34m[\u001b[0m\u001b[0ml\u001b[0m\u001b[0;34m]\u001b[0m\u001b[0;34m.\u001b[0m\u001b[0mforward\u001b[0m\u001b[0;34m(\u001b[0m\u001b[0;34m)\u001b[0m\u001b[0;34m\u001b[0m\u001b[0m\n\u001b[0m\u001b[1;32m     18\u001b[0m             \u001b[0mnns\u001b[0m\u001b[0;34m[\u001b[0m\u001b[0ml\u001b[0m\u001b[0;34m]\u001b[0m\u001b[0;34m[\u001b[0m\u001b[0;34m:\u001b[0m\u001b[0;34m]\u001b[0m \u001b[0;34m=\u001b[0m \u001b[0mmx\u001b[0m\u001b[0;34m.\u001b[0m\u001b[0mnd\u001b[0m\u001b[0;34m.\u001b[0m\u001b[0margmax_channel\u001b[0m\u001b[0;34m(\u001b[0m\u001b[0mmrf_executors\u001b[0m\u001b[0;34m[\u001b[0m\u001b[0ml\u001b[0m\u001b[0;34m]\u001b[0m\u001b[0;34m.\u001b[0m\u001b[0moutputs\u001b[0m\u001b[0;34m[\u001b[0m\u001b[0;36m0\u001b[0m\u001b[0;34m]\u001b[0m\u001b[0;34m)\u001b[0m\u001b[0;34m[\u001b[0m\u001b[0;36m0\u001b[0m\u001b[0;34m]\u001b[0m\u001b[0;34m\u001b[0m\u001b[0m\n\u001b[1;32m     19\u001b[0m             \u001b[0mass_executors\u001b[0m\u001b[0;34m[\u001b[0m\u001b[0ml\u001b[0m\u001b[0;34m]\u001b[0m\u001b[0;34m.\u001b[0m\u001b[0moutputs\u001b[0m\u001b[0;34m[\u001b[0m\u001b[0;36m0\u001b[0m\u001b[0;34m]\u001b[0m\u001b[0;34m[\u001b[0m\u001b[0;34m:\u001b[0m\u001b[0;34m]\u001b[0m \u001b[0;34m=\u001b[0m \u001b[0;36m0\u001b[0m\u001b[0;34m\u001b[0m\u001b[0m\n",
      "\u001b[0;31mNameError\u001b[0m: name 'l' is not defined"
     ]
    }
   ],
   "source": [
    "for idx in range(args.num_image):\n",
    "    #   break\n",
    "    optim_state = optimizer.create_state(0, arg_dict['data'])\n",
    "    selected = np.random.randint(0, len(img_list))\n",
    "    img = crop_img(os.path.join(COCOPATH, img_list[selected]), size)\n",
    "    io.imsave('%s/data/image%dx.jpg'%(args.model_name, idx), img/255)\n",
    "    img = preprocess_img(img)\n",
    "    vgg_executor.arg_dict['data'][:] = img\n",
    "    vgg_executor.forward()\n",
    "    original_content = []\n",
    "    for l in range(args.num_res):\n",
    "        original_content.append(vgg_executor.outputs[l].copyto(mx.gpu()))\n",
    "    for epoch in range(args.epochs):\n",
    "        vgg_executor.forward(is_train=True)\n",
    "        print(vgg_executor)\n",
    "        if epoch % 10 == 0:\n",
    "            mrf_executors[l].forward()\n",
    "            nns[l][:] = mx.nd.argmax_channel(mrf_executors[l].outputs[0])[0]\n",
    "            ass_executors[l].outputs[0][:] = 0\n",
    "            ass_executors[l].forward()\n",
    "            ass_executors[l].outputs[0][:] /= pcs[l]\n",
    "            # compute target layer\n",
    "            ass_executors[l].outputs[0][:] *= args.style_weight[l]\n",
    "            ass_executors[l].outputs[0][:] += args.content_weight[l]*original_content[l]\n",
    "            ass_executors[l].outputs[0][:] *= 1./(args.style_weight[l]+args.content_weight[l])\n",
    "        tv_grad_executor.forward()\n",
    "        if epoch > args.epochs - 30:\n",
    "            for l in range(1,args.num_res):\n",
    "                vgg_executor.outputs[l][:] = 0\n",
    "            vgg_executor.outputs[0][:] -= ass_executors[0].outputs[0] # grad\n",
    "            vgg_executor.outputs[0][:] *= (args.style_weight[0]+args.content_weight[0]) / np.prod(vgg_executor.outputs[0].shape)\n",
    "        else:\n",
    "            for l in range(args.num_res):\n",
    "                vgg_executor.outputs[l][:] -= ass_executors[l].outputs[0] # grad\n",
    "                vgg_executor.outputs[l][:] *= (args.style_weight[l]+args.content_weight[l]) / np.prod(vgg_executor.outputs[l].shape)\n",
    "\n",
    "        vgg_executor.backward(vgg_executor.outputs)\n",
    "        optimizer.update(0, vgg_executor.arg_dict['data'], vgg_executor.grad_dict['data']+tv_grad_executor.outputs[0], optim_state)\n",
    "\n",
    "    img = postprocess_img(vgg_executor.arg_dict['data'].asnumpy())\n",
    "    io.imsave('%s/data/image%d.jpg'%(args.model_name, idx), img)\n"
   ]
  },
  {
   "cell_type": "code",
   "execution_count": 69,
   "metadata": {},
   "outputs": [
    {
     "name": "stdout",
     "output_type": "stream",
     "text": [
      "[]\n"
     ]
    }
   ],
   "source": [
    "print(ass_executors)"
   ]
  },
  {
   "cell_type": "code",
   "execution_count": 35,
   "metadata": {
    "collapsed": true
   },
   "outputs": [],
   "source": [
    "A = mx.nd.load('../vgg19.params')"
   ]
  },
  {
   "cell_type": "code",
   "execution_count": 49,
   "metadata": {},
   "outputs": [
    {
     "name": "stdout",
     "output_type": "stream",
     "text": [
      "dict_keys(['arg:conv4_1_weight', 'arg:conv5_2_weight', 'arg:conv3_2_weight', 'arg:conv1_2_weight', 'arg:conv1_1_weight', 'arg:conv3_1_bias', 'arg:conv4_2_weight', 'arg:conv2_1_bias', 'arg:conv5_1_weight', 'arg:conv4_3_bias', 'arg:conv5_2_bias', 'arg:conv5_4_weight', 'arg:conv3_4_bias', 'arg:conv2_2_bias', 'arg:conv4_4_bias', 'arg:conv3_2_bias', 'arg:conv3_1_weight', 'arg:conv5_3_weight', 'arg:conv3_4_weight', 'arg:conv1_2_bias', 'arg:conv4_3_weight', 'arg:conv3_3_bias', 'arg:conv4_2_bias', 'arg:conv4_1_bias', 'arg:conv5_4_bias', 'arg:conv2_2_weight', 'arg:conv2_1_weight', 'arg:conv1_1_bias', 'arg:conv5_3_bias', 'arg:conv4_4_weight', 'arg:conv3_3_weight', 'arg:conv5_1_bias'])\n"
     ]
    }
   ],
   "source": [
    "print(A.keys())"
   ]
  },
  {
   "cell_type": "code",
   "execution_count": 50,
   "metadata": {},
   "outputs": [
    {
     "name": "stdout",
     "output_type": "stream",
     "text": [
      "['batchnorm0_beta', 'batchnorm0_gamma', 'batchnorm0_running_mean', 'batchnorm0_running_var', 'conv0_weight', 'dense0_bias', 'dense0_weight', 'stage1_batchnorm0_beta', 'stage1_batchnorm0_gamma', 'stage1_batchnorm0_running_mean', 'stage1_batchnorm0_running_var', 'stage1_batchnorm1_beta', 'stage1_batchnorm1_gamma', 'stage1_batchnorm1_running_mean', 'stage1_batchnorm1_running_var', 'stage1_batchnorm2_beta', 'stage1_batchnorm2_gamma', 'stage1_batchnorm2_running_mean', 'stage1_batchnorm2_running_var', 'stage1_batchnorm3_beta', 'stage1_batchnorm3_gamma', 'stage1_batchnorm3_running_mean', 'stage1_batchnorm3_running_var', 'stage1_conv0_weight', 'stage1_conv1_weight', 'stage1_conv2_weight', 'stage1_conv3_weight', 'stage2_batchnorm0_beta', 'stage2_batchnorm0_gamma', 'stage2_batchnorm0_running_mean', 'stage2_batchnorm0_running_var', 'stage2_batchnorm1_beta', 'stage2_batchnorm1_gamma', 'stage2_batchnorm1_running_mean', 'stage2_batchnorm1_running_var', 'stage2_batchnorm2_beta', 'stage2_batchnorm2_gamma', 'stage2_batchnorm2_running_mean', 'stage2_batchnorm2_running_var', 'stage2_batchnorm3_beta', 'stage2_batchnorm3_gamma', 'stage2_batchnorm3_running_mean', 'stage2_batchnorm3_running_var', 'stage2_batchnorm4_beta', 'stage2_batchnorm4_gamma', 'stage2_batchnorm4_running_mean', 'stage2_batchnorm4_running_var', 'stage2_conv0_weight', 'stage2_conv1_weight', 'stage2_conv2_weight', 'stage2_conv3_weight', 'stage2_conv4_weight', 'stage3_batchnorm0_beta', 'stage3_batchnorm0_gamma', 'stage3_batchnorm0_running_mean', 'stage3_batchnorm0_running_var', 'stage3_batchnorm1_beta', 'stage3_batchnorm1_gamma', 'stage3_batchnorm1_running_mean', 'stage3_batchnorm1_running_var', 'stage3_batchnorm2_beta', 'stage3_batchnorm2_gamma', 'stage3_batchnorm2_running_mean', 'stage3_batchnorm2_running_var', 'stage3_batchnorm3_beta', 'stage3_batchnorm3_gamma', 'stage3_batchnorm3_running_mean', 'stage3_batchnorm3_running_var', 'stage3_batchnorm4_beta', 'stage3_batchnorm4_gamma', 'stage3_batchnorm4_running_mean', 'stage3_batchnorm4_running_var', 'stage3_conv0_weight', 'stage3_conv1_weight', 'stage3_conv2_weight', 'stage3_conv3_weight', 'stage3_conv4_weight', 'stage4_batchnorm0_beta', 'stage4_batchnorm0_gamma', 'stage4_batchnorm0_running_mean', 'stage4_batchnorm0_running_var', 'stage4_batchnorm1_beta', 'stage4_batchnorm1_gamma', 'stage4_batchnorm1_running_mean', 'stage4_batchnorm1_running_var', 'stage4_batchnorm2_beta', 'stage4_batchnorm2_gamma', 'stage4_batchnorm2_running_mean', 'stage4_batchnorm2_running_var', 'stage4_batchnorm3_beta', 'stage4_batchnorm3_gamma', 'stage4_batchnorm3_running_mean', 'stage4_batchnorm3_running_var', 'stage4_batchnorm4_beta', 'stage4_batchnorm4_gamma', 'stage4_batchnorm4_running_mean', 'stage4_batchnorm4_running_var', 'stage4_conv0_weight', 'stage4_conv1_weight', 'stage4_conv2_weight', 'stage4_conv3_weight', 'stage4_conv4_weight']\n"
     ]
    }
   ],
   "source": [
    "B = mx.nd.load('../resnet18.params')\n",
    "print(sorted(B.keys()))"
   ]
  },
  {
   "cell_type": "code",
   "execution_count": 53,
   "metadata": {},
   "outputs": [],
   "source": [
    "del B['dense0_weight']"
   ]
  },
  {
   "cell_type": "code",
   "execution_count": 54,
   "metadata": {},
   "outputs": [
    {
     "name": "stdout",
     "output_type": "stream",
     "text": [
      "100\n"
     ]
    }
   ],
   "source": [
    "print(len(sorted(B.keys())))"
   ]
  },
  {
   "cell_type": "code",
   "execution_count": 57,
   "metadata": {},
   "outputs": [
    {
     "data": {
      "text/plain": [
       "100"
      ]
     },
     "execution_count": 57,
     "metadata": {},
     "output_type": "execute_result"
    }
   ],
   "source": [
    "75 + 4*4+4 +5"
   ]
  },
  {
   "cell_type": "code",
   "execution_count": null,
   "metadata": {
    "collapsed": true
   },
   "outputs": [],
   "source": []
  }
 ],
 "metadata": {
  "kernelspec": {
   "display_name": "Python 3",
   "language": "python",
   "name": "python3"
  },
  "language_info": {
   "codemirror_mode": {
    "name": "ipython",
    "version": 3
   },
   "file_extension": ".py",
   "mimetype": "text/x-python",
   "name": "python",
   "nbconvert_exporter": "python",
   "pygments_lexer": "ipython3",
   "version": "3.5.2"
  }
 },
 "nbformat": 4,
 "nbformat_minor": 2
}
