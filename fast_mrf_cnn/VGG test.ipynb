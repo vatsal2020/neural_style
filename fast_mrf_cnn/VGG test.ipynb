{
 "cells": [
  {
   "cell_type": "code",
   "execution_count": 1,
   "metadata": {
    "collapsed": true
   },
   "outputs": [],
   "source": [
    "import mxnet as mx\n",
    "from mxnet import nd\n",
    "import mxnet.gluon as gluon\n",
    "from mxnet.gluon.model_zoo.vision import resnet18_v1"
   ]
  },
  {
   "cell_type": "code",
   "execution_count": 2,
   "metadata": {
    "collapsed": true
   },
   "outputs": [],
   "source": [
    "import time\n",
    "import random\n",
    "import os\n",
    "import mxnet as mx\n",
    "import numpy as np\n",
    "np.set_printoptions(precision=2)\n",
    "import argparse\n",
    "import symbol"
   ]
  },
  {
   "cell_type": "code",
   "execution_count": 34,
   "metadata": {},
   "outputs": [
    {
     "name": "stdout",
     "output_type": "stream",
     "text": [
      "digraph plot {\n",
      "\tdata [label=data fillcolor=\"#8dd3c7\" fixedsize=true height=0.8034 shape=oval style=filled width=1.3]\n",
      "\tconv1_1 [label=\"Convolution\\n3x3/1x1, 64\" fillcolor=\"#fb8072\" fixedsize=true height=0.8034 shape=box style=filled width=1.3]\n",
      "\trelu1_1 [label=\"Activation\\nrelu\" fillcolor=\"#ffffb3\" fixedsize=true height=0.8034 shape=box style=filled width=1.3]\n",
      "\tconv1_2 [label=\"Convolution\\n3x3/1x1, 64\" fillcolor=\"#fb8072\" fixedsize=true height=0.8034 shape=box style=filled width=1.3]\n",
      "\trelu1_2 [label=\"Activation\\nrelu\" fillcolor=\"#ffffb3\" fixedsize=true height=0.8034 shape=box style=filled width=1.3]\n",
      "\tpool1 [label=\"Pooling\\navg, 2x2/2x2\" fillcolor=\"#80b1d3\" fixedsize=true height=0.8034 shape=box style=filled width=1.3]\n",
      "\tconv2_1 [label=\"Convolution\\n3x3/1x1, 128\" fillcolor=\"#fb8072\" fixedsize=true height=0.8034 shape=box style=filled width=1.3]\n",
      "\trelu2_1 [label=\"Activation\\nrelu\" fillcolor=\"#ffffb3\" fixedsize=true height=0.8034 shape=box style=filled width=1.3]\n",
      "\tconv2_2 [label=\"Convolution\\n3x3/1x1, 128\" fillcolor=\"#fb8072\" fixedsize=true height=0.8034 shape=box style=filled width=1.3]\n",
      "\trelu2_2 [label=\"Activation\\nrelu\" fillcolor=\"#ffffb3\" fixedsize=true height=0.8034 shape=box style=filled width=1.3]\n",
      "\tpool2 [label=\"Pooling\\navg, 2x2/2x2\" fillcolor=\"#80b1d3\" fixedsize=true height=0.8034 shape=box style=filled width=1.3]\n",
      "\tconv3_1 [label=\"Convolution\\n3x3/1x1, 256\" fillcolor=\"#fb8072\" fixedsize=true height=0.8034 shape=box style=filled width=1.3]\n",
      "\trelu3_1 [label=\"Activation\\nrelu\" fillcolor=\"#ffffb3\" fixedsize=true height=0.8034 shape=box style=filled width=1.3]\n",
      "\tpooling36 [label=\"Pooling\\navg, 2x2/2x2\" fillcolor=\"#80b1d3\" fixedsize=true height=0.8034 shape=box style=filled width=1.3]\n",
      "\tconv1_1 [label=\"Convolution\\n3x3/1x1, 64\" fillcolor=\"#fb8072\" fixedsize=true height=0.8034 shape=box style=filled width=1.3]\n",
      "\trelu1_1 [label=\"Activation\\nrelu\" fillcolor=\"#ffffb3\" fixedsize=true height=0.8034 shape=box style=filled width=1.3]\n",
      "\tconv1_2 [label=\"Convolution\\n3x3/1x1, 64\" fillcolor=\"#fb8072\" fixedsize=true height=0.8034 shape=box style=filled width=1.3]\n",
      "\trelu1_2 [label=\"Activation\\nrelu\" fillcolor=\"#ffffb3\" fixedsize=true height=0.8034 shape=box style=filled width=1.3]\n",
      "\tpool1 [label=\"Pooling\\navg, 2x2/2x2\" fillcolor=\"#80b1d3\" fixedsize=true height=0.8034 shape=box style=filled width=1.3]\n",
      "\tconv2_1 [label=\"Convolution\\n3x3/1x1, 128\" fillcolor=\"#fb8072\" fixedsize=true height=0.8034 shape=box style=filled width=1.3]\n",
      "\trelu2_1 [label=\"Activation\\nrelu\" fillcolor=\"#ffffb3\" fixedsize=true height=0.8034 shape=box style=filled width=1.3]\n",
      "\tconv2_2 [label=\"Convolution\\n3x3/1x1, 128\" fillcolor=\"#fb8072\" fixedsize=true height=0.8034 shape=box style=filled width=1.3]\n",
      "\trelu2_2 [label=\"Activation\\nrelu\" fillcolor=\"#ffffb3\" fixedsize=true height=0.8034 shape=box style=filled width=1.3]\n",
      "\tpool2 [label=\"Pooling\\navg, 2x2/2x2\" fillcolor=\"#80b1d3\" fixedsize=true height=0.8034 shape=box style=filled width=1.3]\n",
      "\tconv3_1 [label=\"Convolution\\n3x3/1x1, 256\" fillcolor=\"#fb8072\" fixedsize=true height=0.8034 shape=box style=filled width=1.3]\n",
      "\trelu3_1 [label=\"Activation\\nrelu\" fillcolor=\"#ffffb3\" fixedsize=true height=0.8034 shape=box style=filled width=1.3]\n",
      "\tpooling37 [label=\"Pooling\\navg, 2x2/2x2\" fillcolor=\"#80b1d3\" fixedsize=true height=0.8034 shape=box style=filled width=1.3]\n",
      "\tconv1_1 [label=\"Convolution\\n3x3/1x1, 64\" fillcolor=\"#fb8072\" fixedsize=true height=0.8034 shape=box style=filled width=1.3]\n",
      "\trelu1_1 [label=\"Activation\\nrelu\" fillcolor=\"#ffffb3\" fixedsize=true height=0.8034 shape=box style=filled width=1.3]\n",
      "\tconv1_2 [label=\"Convolution\\n3x3/1x1, 64\" fillcolor=\"#fb8072\" fixedsize=true height=0.8034 shape=box style=filled width=1.3]\n",
      "\trelu1_2 [label=\"Activation\\nrelu\" fillcolor=\"#ffffb3\" fixedsize=true height=0.8034 shape=box style=filled width=1.3]\n",
      "\tpool1 [label=\"Pooling\\navg, 2x2/2x2\" fillcolor=\"#80b1d3\" fixedsize=true height=0.8034 shape=box style=filled width=1.3]\n",
      "\tconv2_1 [label=\"Convolution\\n3x3/1x1, 128\" fillcolor=\"#fb8072\" fixedsize=true height=0.8034 shape=box style=filled width=1.3]\n",
      "\trelu2_1 [label=\"Activation\\nrelu\" fillcolor=\"#ffffb3\" fixedsize=true height=0.8034 shape=box style=filled width=1.3]\n",
      "\tconv2_2 [label=\"Convolution\\n3x3/1x1, 128\" fillcolor=\"#fb8072\" fixedsize=true height=0.8034 shape=box style=filled width=1.3]\n",
      "\trelu2_2 [label=\"Activation\\nrelu\" fillcolor=\"#ffffb3\" fixedsize=true height=0.8034 shape=box style=filled width=1.3]\n",
      "\tpool2 [label=\"Pooling\\navg, 2x2/2x2\" fillcolor=\"#80b1d3\" fixedsize=true height=0.8034 shape=box style=filled width=1.3]\n",
      "\tconv3_1 [label=\"Convolution\\n3x3/1x1, 256\" fillcolor=\"#fb8072\" fixedsize=true height=0.8034 shape=box style=filled width=1.3]\n",
      "\trelu3_1 [label=\"Activation\\nrelu\" fillcolor=\"#ffffb3\" fixedsize=true height=0.8034 shape=box style=filled width=1.3]\n",
      "\tconv1_1 -> data [arrowtail=open dir=back]\n",
      "\trelu1_1 -> conv1_1 [arrowtail=open dir=back]\n",
      "\tconv1_2 -> relu1_1 [arrowtail=open dir=back]\n",
      "\trelu1_2 -> conv1_2 [arrowtail=open dir=back]\n",
      "\tpool1 -> relu1_2 [arrowtail=open dir=back]\n",
      "\tconv2_1 -> pool1 [arrowtail=open dir=back]\n",
      "\trelu2_1 -> conv2_1 [arrowtail=open dir=back]\n",
      "\tconv2_2 -> relu2_1 [arrowtail=open dir=back]\n",
      "\trelu2_2 -> conv2_2 [arrowtail=open dir=back]\n",
      "\tpool2 -> relu2_2 [arrowtail=open dir=back]\n",
      "\tconv3_1 -> pool2 [arrowtail=open dir=back]\n",
      "\trelu3_1 -> conv3_1 [arrowtail=open dir=back]\n",
      "\tpooling36 -> data [arrowtail=open dir=back]\n",
      "\tconv1_1 -> pooling36 [arrowtail=open dir=back]\n",
      "\trelu1_1 -> conv1_1 [arrowtail=open dir=back]\n",
      "\tconv1_2 -> relu1_1 [arrowtail=open dir=back]\n",
      "\trelu1_2 -> conv1_2 [arrowtail=open dir=back]\n",
      "\tpool1 -> relu1_2 [arrowtail=open dir=back]\n",
      "\tconv2_1 -> pool1 [arrowtail=open dir=back]\n",
      "\trelu2_1 -> conv2_1 [arrowtail=open dir=back]\n",
      "\tconv2_2 -> relu2_1 [arrowtail=open dir=back]\n",
      "\trelu2_2 -> conv2_2 [arrowtail=open dir=back]\n",
      "\tpool2 -> relu2_2 [arrowtail=open dir=back]\n",
      "\tconv3_1 -> pool2 [arrowtail=open dir=back]\n",
      "\trelu3_1 -> conv3_1 [arrowtail=open dir=back]\n",
      "\tpooling37 -> pooling36 [arrowtail=open dir=back]\n",
      "\tconv1_1 -> pooling37 [arrowtail=open dir=back]\n",
      "\trelu1_1 -> conv1_1 [arrowtail=open dir=back]\n",
      "\tconv1_2 -> relu1_1 [arrowtail=open dir=back]\n",
      "\trelu1_2 -> conv1_2 [arrowtail=open dir=back]\n",
      "\tpool1 -> relu1_2 [arrowtail=open dir=back]\n",
      "\tconv2_1 -> pool1 [arrowtail=open dir=back]\n",
      "\trelu2_1 -> conv2_1 [arrowtail=open dir=back]\n",
      "\tconv2_2 -> relu2_1 [arrowtail=open dir=back]\n",
      "\trelu2_2 -> conv2_2 [arrowtail=open dir=back]\n",
      "\tpool2 -> relu2_2 [arrowtail=open dir=back]\n",
      "\tconv3_1 -> pool2 [arrowtail=open dir=back]\n",
      "\trelu3_1 -> conv3_1 [arrowtail=open dir=back]\n",
      "}\n",
      "['data', 'conv1_1_weight', 'conv1_1_bias', 'conv1_2_weight', 'conv1_2_bias', 'conv2_1_weight', 'conv2_1_bias', 'conv2_2_weight', 'conv2_2_bias', 'conv3_1_weight', 'conv3_1_bias']\n"
     ]
    }
   ],
   "source": [
    "VGGPATH = '../vgg19.params'\n",
    "vgg_symbol = symbol.descriptor_symbol(3)\n",
    "print(mx.viz.plot_network(vgg_symbol))\n",
    "#print(type(vgg_symbol))\n",
    "arg_names = vgg_symbol.list_arguments()\n",
    "print(arg_names)\n",
    "arg_dict = {}\n",
    "pretrained = mx.nd.load(VGGPATH)\n",
    "#print(pretrained)"
   ]
  },
  {
   "cell_type": "code",
   "execution_count": 10,
   "metadata": {},
   "outputs": [
    {
     "name": "stdout",
     "output_type": "stream",
     "text": [
      "['batchnorm0_beta', 'batchnorm0_gamma', 'batchnorm0_running_mean', 'batchnorm0_running_var', 'conv0_weight', 'dense0_bias', 'dense0_weight', 'stage1_batchnorm0_beta', 'stage1_batchnorm0_gamma', 'stage1_batchnorm0_running_mean', 'stage1_batchnorm0_running_var', 'stage1_batchnorm1_beta', 'stage1_batchnorm1_gamma', 'stage1_batchnorm1_running_mean', 'stage1_batchnorm1_running_var', 'stage1_batchnorm2_beta', 'stage1_batchnorm2_gamma', 'stage1_batchnorm2_running_mean', 'stage1_batchnorm2_running_var', 'stage1_batchnorm3_beta', 'stage1_batchnorm3_gamma', 'stage1_batchnorm3_running_mean', 'stage1_batchnorm3_running_var', 'stage1_conv0_weight', 'stage1_conv1_weight', 'stage1_conv2_weight', 'stage1_conv3_weight', 'stage2_batchnorm0_beta', 'stage2_batchnorm0_gamma', 'stage2_batchnorm0_running_mean', 'stage2_batchnorm0_running_var', 'stage2_batchnorm1_beta', 'stage2_batchnorm1_gamma', 'stage2_batchnorm1_running_mean', 'stage2_batchnorm1_running_var', 'stage2_batchnorm2_beta', 'stage2_batchnorm2_gamma', 'stage2_batchnorm2_running_mean', 'stage2_batchnorm2_running_var', 'stage2_batchnorm3_beta', 'stage2_batchnorm3_gamma', 'stage2_batchnorm3_running_mean', 'stage2_batchnorm3_running_var', 'stage2_batchnorm4_beta', 'stage2_batchnorm4_gamma', 'stage2_batchnorm4_running_mean', 'stage2_batchnorm4_running_var', 'stage2_conv0_weight', 'stage2_conv1_weight', 'stage2_conv2_weight', 'stage2_conv3_weight', 'stage2_conv4_weight', 'stage3_batchnorm0_beta', 'stage3_batchnorm0_gamma', 'stage3_batchnorm0_running_mean', 'stage3_batchnorm0_running_var', 'stage3_batchnorm1_beta', 'stage3_batchnorm1_gamma', 'stage3_batchnorm1_running_mean', 'stage3_batchnorm1_running_var', 'stage3_batchnorm2_beta', 'stage3_batchnorm2_gamma', 'stage3_batchnorm2_running_mean', 'stage3_batchnorm2_running_var', 'stage3_batchnorm3_beta', 'stage3_batchnorm3_gamma', 'stage3_batchnorm3_running_mean', 'stage3_batchnorm3_running_var', 'stage3_batchnorm4_beta', 'stage3_batchnorm4_gamma', 'stage3_batchnorm4_running_mean', 'stage3_batchnorm4_running_var', 'stage3_conv0_weight', 'stage3_conv1_weight', 'stage3_conv2_weight', 'stage3_conv3_weight', 'stage3_conv4_weight', 'stage4_batchnorm0_beta', 'stage4_batchnorm0_gamma', 'stage4_batchnorm0_running_mean', 'stage4_batchnorm0_running_var', 'stage4_batchnorm1_beta', 'stage4_batchnorm1_gamma', 'stage4_batchnorm1_running_mean', 'stage4_batchnorm1_running_var', 'stage4_batchnorm2_beta', 'stage4_batchnorm2_gamma', 'stage4_batchnorm2_running_mean', 'stage4_batchnorm2_running_var', 'stage4_batchnorm3_beta', 'stage4_batchnorm3_gamma', 'stage4_batchnorm3_running_mean', 'stage4_batchnorm3_running_var', 'stage4_batchnorm4_beta', 'stage4_batchnorm4_gamma', 'stage4_batchnorm4_running_mean', 'stage4_batchnorm4_running_var', 'stage4_conv0_weight', 'stage4_conv1_weight', 'stage4_conv2_weight', 'stage4_conv3_weight', 'stage4_conv4_weight']\n"
     ]
    }
   ],
   "source": [
    "RESNETPATH='../resnet18.params'\n",
    "pretrained = mx.nd.load(RESNETPATH)\n",
    "print(sorted(pretrained.keys()))"
   ]
  },
  {
   "cell_type": "code",
   "execution_count": 13,
   "metadata": {},
   "outputs": [
    {
     "name": "stdout",
     "output_type": "stream",
     "text": [
      "ResNetV1(\n",
      "  (classifier): HybridSequential(\n",
      "    (0): GlobalAvgPool2D(size=(1, 1), stride=(1, 1), padding=(0, 0), ceil_mode=True)\n",
      "    (1): Flatten\n",
      "    (2): Dense(512 -> 1000, linear)\n",
      "  )\n",
      "  (features): HybridSequential(\n",
      "    (0): Conv2D(3 -> 64, kernel_size=(7, 7), stride=(2, 2), padding=(3, 3), bias=False)\n",
      "    (1): BatchNorm(eps=1e-05, fix_gamma=False, momentum=0.9, axis=1)\n",
      "    (2): Activation(relu)\n",
      "    (3): MaxPool2D(size=(3, 3), stride=(2, 2), padding=(1, 1), ceil_mode=False)\n",
      "    (4): HybridSequential(\n",
      "      (0): BasicBlockV1(\n",
      "        (body): HybridSequential(\n",
      "          (0): Conv2D(64 -> 64, kernel_size=(3, 3), stride=(1, 1), padding=(1, 1), bias=False)\n",
      "          (1): BatchNorm(eps=1e-05, fix_gamma=False, momentum=0.9, axis=1)\n",
      "          (2): Activation(relu)\n",
      "          (3): Conv2D(64 -> 64, kernel_size=(3, 3), stride=(1, 1), padding=(1, 1), bias=False)\n",
      "          (4): BatchNorm(eps=1e-05, fix_gamma=False, momentum=0.9, axis=1)\n",
      "        )\n",
      "      )\n",
      "      (1): BasicBlockV1(\n",
      "        (body): HybridSequential(\n",
      "          (0): Conv2D(64 -> 64, kernel_size=(3, 3), stride=(1, 1), padding=(1, 1), bias=False)\n",
      "          (1): BatchNorm(eps=1e-05, fix_gamma=False, momentum=0.9, axis=1)\n",
      "          (2): Activation(relu)\n",
      "          (3): Conv2D(64 -> 64, kernel_size=(3, 3), stride=(1, 1), padding=(1, 1), bias=False)\n",
      "          (4): BatchNorm(eps=1e-05, fix_gamma=False, momentum=0.9, axis=1)\n",
      "        )\n",
      "      )\n",
      "    )\n",
      "    (5): HybridSequential(\n",
      "      (0): BasicBlockV1(\n",
      "        (body): HybridSequential(\n",
      "          (0): Conv2D(64 -> 128, kernel_size=(3, 3), stride=(2, 2), padding=(1, 1), bias=False)\n",
      "          (1): BatchNorm(eps=1e-05, fix_gamma=False, momentum=0.9, axis=1)\n",
      "          (2): Activation(relu)\n",
      "          (3): Conv2D(128 -> 128, kernel_size=(3, 3), stride=(1, 1), padding=(1, 1), bias=False)\n",
      "          (4): BatchNorm(eps=1e-05, fix_gamma=False, momentum=0.9, axis=1)\n",
      "        )\n",
      "        (downsample): HybridSequential(\n",
      "          (0): Conv2D(64 -> 128, kernel_size=(1, 1), stride=(2, 2), bias=False)\n",
      "          (1): BatchNorm(eps=1e-05, fix_gamma=False, momentum=0.9, axis=1)\n",
      "        )\n",
      "      )\n",
      "      (1): BasicBlockV1(\n",
      "        (body): HybridSequential(\n",
      "          (0): Conv2D(128 -> 128, kernel_size=(3, 3), stride=(1, 1), padding=(1, 1), bias=False)\n",
      "          (1): BatchNorm(eps=1e-05, fix_gamma=False, momentum=0.9, axis=1)\n",
      "          (2): Activation(relu)\n",
      "          (3): Conv2D(128 -> 128, kernel_size=(3, 3), stride=(1, 1), padding=(1, 1), bias=False)\n",
      "          (4): BatchNorm(eps=1e-05, fix_gamma=False, momentum=0.9, axis=1)\n",
      "        )\n",
      "      )\n",
      "    )\n",
      "    (6): HybridSequential(\n",
      "      (0): BasicBlockV1(\n",
      "        (body): HybridSequential(\n",
      "          (0): Conv2D(128 -> 256, kernel_size=(3, 3), stride=(2, 2), padding=(1, 1), bias=False)\n",
      "          (1): BatchNorm(eps=1e-05, fix_gamma=False, momentum=0.9, axis=1)\n",
      "          (2): Activation(relu)\n",
      "          (3): Conv2D(256 -> 256, kernel_size=(3, 3), stride=(1, 1), padding=(1, 1), bias=False)\n",
      "          (4): BatchNorm(eps=1e-05, fix_gamma=False, momentum=0.9, axis=1)\n",
      "        )\n",
      "        (downsample): HybridSequential(\n",
      "          (0): Conv2D(128 -> 256, kernel_size=(1, 1), stride=(2, 2), bias=False)\n",
      "          (1): BatchNorm(eps=1e-05, fix_gamma=False, momentum=0.9, axis=1)\n",
      "        )\n",
      "      )\n",
      "      (1): BasicBlockV1(\n",
      "        (body): HybridSequential(\n",
      "          (0): Conv2D(256 -> 256, kernel_size=(3, 3), stride=(1, 1), padding=(1, 1), bias=False)\n",
      "          (1): BatchNorm(eps=1e-05, fix_gamma=False, momentum=0.9, axis=1)\n",
      "          (2): Activation(relu)\n",
      "          (3): Conv2D(256 -> 256, kernel_size=(3, 3), stride=(1, 1), padding=(1, 1), bias=False)\n",
      "          (4): BatchNorm(eps=1e-05, fix_gamma=False, momentum=0.9, axis=1)\n",
      "        )\n",
      "      )\n",
      "    )\n",
      "    (7): HybridSequential(\n",
      "      (0): BasicBlockV1(\n",
      "        (body): HybridSequential(\n",
      "          (0): Conv2D(256 -> 512, kernel_size=(3, 3), stride=(2, 2), padding=(1, 1), bias=False)\n",
      "          (1): BatchNorm(eps=1e-05, fix_gamma=False, momentum=0.9, axis=1)\n",
      "          (2): Activation(relu)\n",
      "          (3): Conv2D(512 -> 512, kernel_size=(3, 3), stride=(1, 1), padding=(1, 1), bias=False)\n",
      "          (4): BatchNorm(eps=1e-05, fix_gamma=False, momentum=0.9, axis=1)\n",
      "        )\n",
      "        (downsample): HybridSequential(\n",
      "          (0): Conv2D(256 -> 512, kernel_size=(1, 1), stride=(2, 2), bias=False)\n",
      "          (1): BatchNorm(eps=1e-05, fix_gamma=False, momentum=0.9, axis=1)\n",
      "        )\n",
      "      )\n",
      "      (1): BasicBlockV1(\n",
      "        (body): HybridSequential(\n",
      "          (0): Conv2D(512 -> 512, kernel_size=(3, 3), stride=(1, 1), padding=(1, 1), bias=False)\n",
      "          (1): BatchNorm(eps=1e-05, fix_gamma=False, momentum=0.9, axis=1)\n",
      "          (2): Activation(relu)\n",
      "          (3): Conv2D(512 -> 512, kernel_size=(3, 3), stride=(1, 1), padding=(1, 1), bias=False)\n",
      "          (4): BatchNorm(eps=1e-05, fix_gamma=False, momentum=0.9, axis=1)\n",
      "        )\n",
      "      )\n",
      "    )\n",
      "  )\n",
      ")\n"
     ]
    }
   ],
   "source": [
    "import mxnet.gluon.model_zoo.vision as models\n",
    "ctx = mx.gpu()\n",
    "resnet18 = models.resnet18_v1(pretrained=True,ctx=ctx)\n",
    "print(resnet18)"
   ]
  },
  {
   "cell_type": "code",
   "execution_count": 28,
   "metadata": {
    "collapsed": true
   },
   "outputs": [],
   "source": [
    "import os, urllib\n",
    "def download(url):\n",
    "    filename = url.split(\"/\")[-1]\n",
    "    if not os.path.exists(filename):\n",
    "        urllib.urlretrieve(url, filename)\n",
    "\n",
    "def get_model(prefix, epoch):\n",
    "    download(prefix+'-symbol.json')\n",
    "    download(prefix+'-%04d.params' % (epoch,))\n",
    "\n",
    "get_model('http://data.mxnet.io/models/imagenet/resnet/18-layers/resnet-18', 0000)\n",
    "sym, arg_params, aux_params = mx.model.load_checkpoint('resnet-18', 0000)\n"
   ]
  },
  {
   "cell_type": "code",
   "execution_count": 32,
   "metadata": {},
   "outputs": [
    {
     "ename": "AttributeError",
     "evalue": "module 'urllib' has no attribute 'urlretrieve'",
     "output_type": "error",
     "traceback": [
      "\u001b[0;31m---------------------------------------------------------------------------\u001b[0m",
      "\u001b[0;31mAttributeError\u001b[0m                            Traceback (most recent call last)",
      "\u001b[0;32m<ipython-input-32-01afda297e15>\u001b[0m in \u001b[0;36m<module>\u001b[0;34m()\u001b[0m\n\u001b[1;32m      3\u001b[0m     \u001b[0mdownload\u001b[0m\u001b[0;34m(\u001b[0m\u001b[0mprefix\u001b[0m\u001b[0;34m+\u001b[0m\u001b[0;34m'-%04d.params'\u001b[0m \u001b[0;34m%\u001b[0m \u001b[0;34m(\u001b[0m\u001b[0mepoch\u001b[0m\u001b[0;34m,\u001b[0m\u001b[0;34m)\u001b[0m\u001b[0;34m)\u001b[0m\u001b[0;34m\u001b[0m\u001b[0m\n\u001b[1;32m      4\u001b[0m \u001b[0;34m\u001b[0m\u001b[0m\n\u001b[0;32m----> 5\u001b[0;31m \u001b[0mget_model\u001b[0m\u001b[0;34m(\u001b[0m\u001b[0;34m'http://data.mxnet.io/models/imagenet/resnet/18-layers/resnet-18'\u001b[0m\u001b[0;34m,\u001b[0m \u001b[0;36m0000\u001b[0m\u001b[0;34m)\u001b[0m\u001b[0;34m\u001b[0m\u001b[0m\n\u001b[0m\u001b[1;32m      6\u001b[0m \u001b[0msym\u001b[0m\u001b[0;34m,\u001b[0m \u001b[0marg_params\u001b[0m\u001b[0;34m,\u001b[0m \u001b[0maux_params\u001b[0m \u001b[0;34m=\u001b[0m \u001b[0mmx\u001b[0m\u001b[0;34m.\u001b[0m\u001b[0mmodel\u001b[0m\u001b[0;34m.\u001b[0m\u001b[0mload_checkpoint\u001b[0m\u001b[0;34m(\u001b[0m\u001b[0;34m'resnet-18'\u001b[0m\u001b[0;34m,\u001b[0m \u001b[0;36m0000\u001b[0m\u001b[0;34m)\u001b[0m\u001b[0;34m\u001b[0m\u001b[0m\n",
      "\u001b[0;32m<ipython-input-32-01afda297e15>\u001b[0m in \u001b[0;36mget_model\u001b[0;34m(prefix, epoch)\u001b[0m\n\u001b[1;32m      1\u001b[0m \u001b[0;32mdef\u001b[0m \u001b[0mget_model\u001b[0m\u001b[0;34m(\u001b[0m\u001b[0mprefix\u001b[0m\u001b[0;34m,\u001b[0m \u001b[0mepoch\u001b[0m\u001b[0;34m)\u001b[0m\u001b[0;34m:\u001b[0m\u001b[0;34m\u001b[0m\u001b[0m\n\u001b[0;32m----> 2\u001b[0;31m     \u001b[0mdownload\u001b[0m\u001b[0;34m(\u001b[0m\u001b[0mprefix\u001b[0m\u001b[0;34m+\u001b[0m\u001b[0;34m'-symbol.json'\u001b[0m\u001b[0;34m)\u001b[0m\u001b[0;34m\u001b[0m\u001b[0m\n\u001b[0m\u001b[1;32m      3\u001b[0m     \u001b[0mdownload\u001b[0m\u001b[0;34m(\u001b[0m\u001b[0mprefix\u001b[0m\u001b[0;34m+\u001b[0m\u001b[0;34m'-%04d.params'\u001b[0m \u001b[0;34m%\u001b[0m \u001b[0;34m(\u001b[0m\u001b[0mepoch\u001b[0m\u001b[0;34m,\u001b[0m\u001b[0;34m)\u001b[0m\u001b[0;34m)\u001b[0m\u001b[0;34m\u001b[0m\u001b[0m\n\u001b[1;32m      4\u001b[0m \u001b[0;34m\u001b[0m\u001b[0m\n\u001b[1;32m      5\u001b[0m \u001b[0mget_model\u001b[0m\u001b[0;34m(\u001b[0m\u001b[0;34m'http://data.mxnet.io/models/imagenet/resnet/18-layers/resnet-18'\u001b[0m\u001b[0;34m,\u001b[0m \u001b[0;36m0000\u001b[0m\u001b[0;34m)\u001b[0m\u001b[0;34m\u001b[0m\u001b[0m\n",
      "\u001b[0;32m<ipython-input-28-e36538b36946>\u001b[0m in \u001b[0;36mdownload\u001b[0;34m(url)\u001b[0m\n\u001b[1;32m      3\u001b[0m     \u001b[0mfilename\u001b[0m \u001b[0;34m=\u001b[0m \u001b[0murl\u001b[0m\u001b[0;34m.\u001b[0m\u001b[0msplit\u001b[0m\u001b[0;34m(\u001b[0m\u001b[0;34m\"/\"\u001b[0m\u001b[0;34m)\u001b[0m\u001b[0;34m[\u001b[0m\u001b[0;34m-\u001b[0m\u001b[0;36m1\u001b[0m\u001b[0;34m]\u001b[0m\u001b[0;34m\u001b[0m\u001b[0m\n\u001b[1;32m      4\u001b[0m     \u001b[0;32mif\u001b[0m \u001b[0;32mnot\u001b[0m \u001b[0mos\u001b[0m\u001b[0;34m.\u001b[0m\u001b[0mpath\u001b[0m\u001b[0;34m.\u001b[0m\u001b[0mexists\u001b[0m\u001b[0;34m(\u001b[0m\u001b[0mfilename\u001b[0m\u001b[0;34m)\u001b[0m\u001b[0;34m:\u001b[0m\u001b[0;34m\u001b[0m\u001b[0m\n\u001b[0;32m----> 5\u001b[0;31m         \u001b[0murllib\u001b[0m\u001b[0;34m.\u001b[0m\u001b[0murlretrieve\u001b[0m\u001b[0;34m(\u001b[0m\u001b[0murl\u001b[0m\u001b[0;34m,\u001b[0m \u001b[0mfilename\u001b[0m\u001b[0;34m)\u001b[0m\u001b[0;34m\u001b[0m\u001b[0m\n\u001b[0m",
      "\u001b[0;31mAttributeError\u001b[0m: module 'urllib' has no attribute 'urlretrieve'"
     ]
    }
   ],
   "source": []
  },
  {
   "cell_type": "code",
   "execution_count": null,
   "metadata": {
    "collapsed": true
   },
   "outputs": [],
   "source": []
  }
 ],
 "metadata": {
  "kernelspec": {
   "display_name": "Python 3",
   "language": "python",
   "name": "python3"
  },
  "language_info": {
   "codemirror_mode": {
    "name": "ipython",
    "version": 3
   },
   "file_extension": ".py",
   "mimetype": "text/x-python",
   "name": "python",
   "nbconvert_exporter": "python",
   "pygments_lexer": "ipython3",
   "version": "3.5.2"
  }
 },
 "nbformat": 4,
 "nbformat_minor": 2
}
